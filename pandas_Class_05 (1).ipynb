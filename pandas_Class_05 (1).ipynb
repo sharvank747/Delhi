{
 "cells": [
  {
   "cell_type": "code",
   "execution_count": 38,
   "id": "35e8336b",
   "metadata": {},
   "outputs": [],
   "source": [
    "import pandas as pd\n",
    "import numpy as np"
   ]
  },
  {
   "cell_type": "code",
   "execution_count": 39,
   "id": "7eada4c3",
   "metadata": {},
   "outputs": [],
   "source": [
    "df = pd.read_csv('MagicBricks.csv')"
   ]
  },
  {
   "cell_type": "code",
   "execution_count": 40,
   "id": "e099fe69",
   "metadata": {},
   "outputs": [
    {
     "data": {
      "text/html": [
       "<div>\n",
       "<style scoped>\n",
       "    .dataframe tbody tr th:only-of-type {\n",
       "        vertical-align: middle;\n",
       "    }\n",
       "\n",
       "    .dataframe tbody tr th {\n",
       "        vertical-align: top;\n",
       "    }\n",
       "\n",
       "    .dataframe thead th {\n",
       "        text-align: right;\n",
       "    }\n",
       "</style>\n",
       "<table border=\"1\" class=\"dataframe\">\n",
       "  <thead>\n",
       "    <tr style=\"text-align: right;\">\n",
       "      <th></th>\n",
       "      <th>Area</th>\n",
       "      <th>BHK</th>\n",
       "      <th>Bathroom</th>\n",
       "      <th>Furnishing</th>\n",
       "      <th>Location</th>\n",
       "      <th>District</th>\n",
       "      <th>Locality</th>\n",
       "      <th>Parking</th>\n",
       "      <th>Status</th>\n",
       "      <th>Transaction</th>\n",
       "      <th>Type</th>\n",
       "      <th>Per_Sqft</th>\n",
       "      <th>Price</th>\n",
       "    </tr>\n",
       "  </thead>\n",
       "  <tbody>\n",
       "    <tr>\n",
       "      <th>0</th>\n",
       "      <td>950.0</td>\n",
       "      <td>2</td>\n",
       "      <td>2.0</td>\n",
       "      <td>Furnished</td>\n",
       "      <td>Karol Bagh</td>\n",
       "      <td>Central Delhi</td>\n",
       "      <td>DDA MIG Flats Prasad Nagar Phase 2, Prasad Nag...</td>\n",
       "      <td>1.0</td>\n",
       "      <td>Ready_to_move</td>\n",
       "      <td>Resale</td>\n",
       "      <td>Apartment</td>\n",
       "      <td>8761.0</td>\n",
       "      <td>12500000</td>\n",
       "    </tr>\n",
       "    <tr>\n",
       "      <th>1</th>\n",
       "      <td>535.0</td>\n",
       "      <td>2</td>\n",
       "      <td>1.0</td>\n",
       "      <td>Furnished</td>\n",
       "      <td>Karol Bagh</td>\n",
       "      <td>Central Delhi</td>\n",
       "      <td>Dev Nagar, Karol Bagh</td>\n",
       "      <td>1.0</td>\n",
       "      <td>Ready_to_move</td>\n",
       "      <td>New_Property</td>\n",
       "      <td>Apartment</td>\n",
       "      <td>7290.0</td>\n",
       "      <td>3900000</td>\n",
       "    </tr>\n",
       "    <tr>\n",
       "      <th>2</th>\n",
       "      <td>1280.0</td>\n",
       "      <td>3</td>\n",
       "      <td>3.0</td>\n",
       "      <td>Furnished</td>\n",
       "      <td>Karol Bagh</td>\n",
       "      <td>Central Delhi</td>\n",
       "      <td>Karol Bagh</td>\n",
       "      <td>2.0</td>\n",
       "      <td>Ready_to_move</td>\n",
       "      <td>Resale</td>\n",
       "      <td>Builder_Floor</td>\n",
       "      <td>14092.0</td>\n",
       "      <td>15000000</td>\n",
       "    </tr>\n",
       "    <tr>\n",
       "      <th>3</th>\n",
       "      <td>1135.0</td>\n",
       "      <td>3</td>\n",
       "      <td>3.0</td>\n",
       "      <td>Furnished</td>\n",
       "      <td>Karol Bagh</td>\n",
       "      <td>Central Delhi</td>\n",
       "      <td>The Amaryllis, Karol Bagh</td>\n",
       "      <td>2.0</td>\n",
       "      <td>Almost_ready</td>\n",
       "      <td>Resale</td>\n",
       "      <td>Apartment</td>\n",
       "      <td>22222.0</td>\n",
       "      <td>25000000</td>\n",
       "    </tr>\n",
       "    <tr>\n",
       "      <th>4</th>\n",
       "      <td>1135.0</td>\n",
       "      <td>3</td>\n",
       "      <td>3.0</td>\n",
       "      <td>Furnished</td>\n",
       "      <td>Karol Bagh</td>\n",
       "      <td>Central Delhi</td>\n",
       "      <td>The Amaryllis, Karol Bagh</td>\n",
       "      <td>2.0</td>\n",
       "      <td>Almost_ready</td>\n",
       "      <td>Resale</td>\n",
       "      <td>Apartment</td>\n",
       "      <td>22222.0</td>\n",
       "      <td>25000000</td>\n",
       "    </tr>\n",
       "    <tr>\n",
       "      <th>...</th>\n",
       "      <td>...</td>\n",
       "      <td>...</td>\n",
       "      <td>...</td>\n",
       "      <td>...</td>\n",
       "      <td>...</td>\n",
       "      <td>...</td>\n",
       "      <td>...</td>\n",
       "      <td>...</td>\n",
       "      <td>...</td>\n",
       "      <td>...</td>\n",
       "      <td>...</td>\n",
       "      <td>...</td>\n",
       "      <td>...</td>\n",
       "    </tr>\n",
       "    <tr>\n",
       "      <th>1209</th>\n",
       "      <td>4688.0</td>\n",
       "      <td>5</td>\n",
       "      <td>4.0</td>\n",
       "      <td>Unfurnished</td>\n",
       "      <td>Patel Nagar</td>\n",
       "      <td>West Delhi</td>\n",
       "      <td>The Leela Sky Villas, Patel Nagar</td>\n",
       "      <td>1.0</td>\n",
       "      <td>Almost_ready</td>\n",
       "      <td>New_Property</td>\n",
       "      <td>Apartment</td>\n",
       "      <td>28797.0</td>\n",
       "      <td>135000000</td>\n",
       "    </tr>\n",
       "    <tr>\n",
       "      <th>1210</th>\n",
       "      <td>3901.0</td>\n",
       "      <td>4</td>\n",
       "      <td>4.0</td>\n",
       "      <td>Unfurnished</td>\n",
       "      <td>Patel Nagar</td>\n",
       "      <td>West Delhi</td>\n",
       "      <td>The Leela Sky Villas, Patel Nagar</td>\n",
       "      <td>1.0</td>\n",
       "      <td>Almost_ready</td>\n",
       "      <td>New_Property</td>\n",
       "      <td>Apartment</td>\n",
       "      <td>23840.0</td>\n",
       "      <td>93000000</td>\n",
       "    </tr>\n",
       "    <tr>\n",
       "      <th>1211</th>\n",
       "      <td>2306.0</td>\n",
       "      <td>3</td>\n",
       "      <td>3.0</td>\n",
       "      <td>Unfurnished</td>\n",
       "      <td>Patel Nagar</td>\n",
       "      <td>West Delhi</td>\n",
       "      <td>The Leela Sky Villas, Patel Nagar</td>\n",
       "      <td>1.0</td>\n",
       "      <td>Almost_ready</td>\n",
       "      <td>New_Property</td>\n",
       "      <td>Apartment</td>\n",
       "      <td>24718.0</td>\n",
       "      <td>57000000</td>\n",
       "    </tr>\n",
       "    <tr>\n",
       "      <th>1212</th>\n",
       "      <td>675.0</td>\n",
       "      <td>2</td>\n",
       "      <td>1.0</td>\n",
       "      <td>Unfurnished</td>\n",
       "      <td>Uttam Nagar</td>\n",
       "      <td>West Delhi</td>\n",
       "      <td>Uttam Nagar</td>\n",
       "      <td>1.0</td>\n",
       "      <td>Ready_to_move</td>\n",
       "      <td>Resale</td>\n",
       "      <td>Builder_Floor</td>\n",
       "      <td>5794.0</td>\n",
       "      <td>2900000</td>\n",
       "    </tr>\n",
       "    <tr>\n",
       "      <th>1213</th>\n",
       "      <td>585.0</td>\n",
       "      <td>2</td>\n",
       "      <td>2.0</td>\n",
       "      <td>Unfurnished</td>\n",
       "      <td>Uttam Nagar</td>\n",
       "      <td>West Delhi</td>\n",
       "      <td>Uttam Nagar</td>\n",
       "      <td>1.0</td>\n",
       "      <td>Ready_to_move</td>\n",
       "      <td>Resale</td>\n",
       "      <td>Builder_Floor</td>\n",
       "      <td>5794.0</td>\n",
       "      <td>3200000</td>\n",
       "    </tr>\n",
       "  </tbody>\n",
       "</table>\n",
       "<p>1214 rows × 13 columns</p>\n",
       "</div>"
      ],
      "text/plain": [
       "        Area  BHK  Bathroom   Furnishing     Location       District  \\\n",
       "0      950.0    2       2.0    Furnished   Karol Bagh  Central Delhi   \n",
       "1      535.0    2       1.0    Furnished   Karol Bagh  Central Delhi   \n",
       "2     1280.0    3       3.0    Furnished   Karol Bagh  Central Delhi   \n",
       "3     1135.0    3       3.0    Furnished   Karol Bagh  Central Delhi   \n",
       "4     1135.0    3       3.0    Furnished   Karol Bagh  Central Delhi   \n",
       "...      ...  ...       ...          ...          ...            ...   \n",
       "1209  4688.0    5       4.0  Unfurnished  Patel Nagar     West Delhi   \n",
       "1210  3901.0    4       4.0  Unfurnished  Patel Nagar     West Delhi   \n",
       "1211  2306.0    3       3.0  Unfurnished  Patel Nagar     West Delhi   \n",
       "1212   675.0    2       1.0  Unfurnished  Uttam Nagar     West Delhi   \n",
       "1213   585.0    2       2.0  Unfurnished  Uttam Nagar     West Delhi   \n",
       "\n",
       "                                               Locality  Parking  \\\n",
       "0     DDA MIG Flats Prasad Nagar Phase 2, Prasad Nag...      1.0   \n",
       "1                                 Dev Nagar, Karol Bagh      1.0   \n",
       "2                                            Karol Bagh      2.0   \n",
       "3                             The Amaryllis, Karol Bagh      2.0   \n",
       "4                             The Amaryllis, Karol Bagh      2.0   \n",
       "...                                                 ...      ...   \n",
       "1209                  The Leela Sky Villas, Patel Nagar      1.0   \n",
       "1210                  The Leela Sky Villas, Patel Nagar      1.0   \n",
       "1211                  The Leela Sky Villas, Patel Nagar      1.0   \n",
       "1212                                        Uttam Nagar      1.0   \n",
       "1213                                        Uttam Nagar      1.0   \n",
       "\n",
       "             Status   Transaction           Type  Per_Sqft      Price  \n",
       "0     Ready_to_move        Resale      Apartment    8761.0   12500000  \n",
       "1     Ready_to_move  New_Property      Apartment    7290.0    3900000  \n",
       "2     Ready_to_move        Resale  Builder_Floor   14092.0   15000000  \n",
       "3      Almost_ready        Resale      Apartment   22222.0   25000000  \n",
       "4      Almost_ready        Resale      Apartment   22222.0   25000000  \n",
       "...             ...           ...            ...       ...        ...  \n",
       "1209   Almost_ready  New_Property      Apartment   28797.0  135000000  \n",
       "1210   Almost_ready  New_Property      Apartment   23840.0   93000000  \n",
       "1211   Almost_ready  New_Property      Apartment   24718.0   57000000  \n",
       "1212  Ready_to_move        Resale  Builder_Floor    5794.0    2900000  \n",
       "1213  Ready_to_move        Resale  Builder_Floor    5794.0    3200000  \n",
       "\n",
       "[1214 rows x 13 columns]"
      ]
     },
     "execution_count": 40,
     "metadata": {},
     "output_type": "execute_result"
    }
   ],
   "source": [
    "df"
   ]
  },
  {
   "cell_type": "code",
   "execution_count": 41,
   "id": "9de046c5",
   "metadata": {},
   "outputs": [],
   "source": [
    "df.drop('Locality',axis=1,inplace=True)"
   ]
  },
  {
   "cell_type": "code",
   "execution_count": 42,
   "id": "c123f94c",
   "metadata": {},
   "outputs": [
    {
     "data": {
      "text/html": [
       "<div>\n",
       "<style scoped>\n",
       "    .dataframe tbody tr th:only-of-type {\n",
       "        vertical-align: middle;\n",
       "    }\n",
       "\n",
       "    .dataframe tbody tr th {\n",
       "        vertical-align: top;\n",
       "    }\n",
       "\n",
       "    .dataframe thead th {\n",
       "        text-align: right;\n",
       "    }\n",
       "</style>\n",
       "<table border=\"1\" class=\"dataframe\">\n",
       "  <thead>\n",
       "    <tr style=\"text-align: right;\">\n",
       "      <th></th>\n",
       "      <th>Area</th>\n",
       "      <th>BHK</th>\n",
       "      <th>Bathroom</th>\n",
       "      <th>Furnishing</th>\n",
       "      <th>Location</th>\n",
       "      <th>District</th>\n",
       "      <th>Parking</th>\n",
       "      <th>Status</th>\n",
       "      <th>Transaction</th>\n",
       "      <th>Type</th>\n",
       "      <th>Per_Sqft</th>\n",
       "      <th>Price</th>\n",
       "    </tr>\n",
       "  </thead>\n",
       "  <tbody>\n",
       "    <tr>\n",
       "      <th>0</th>\n",
       "      <td>950.0</td>\n",
       "      <td>2</td>\n",
       "      <td>2.0</td>\n",
       "      <td>Furnished</td>\n",
       "      <td>Karol Bagh</td>\n",
       "      <td>Central Delhi</td>\n",
       "      <td>1.0</td>\n",
       "      <td>Ready_to_move</td>\n",
       "      <td>Resale</td>\n",
       "      <td>Apartment</td>\n",
       "      <td>8761.0</td>\n",
       "      <td>12500000</td>\n",
       "    </tr>\n",
       "    <tr>\n",
       "      <th>1</th>\n",
       "      <td>535.0</td>\n",
       "      <td>2</td>\n",
       "      <td>1.0</td>\n",
       "      <td>Furnished</td>\n",
       "      <td>Karol Bagh</td>\n",
       "      <td>Central Delhi</td>\n",
       "      <td>1.0</td>\n",
       "      <td>Ready_to_move</td>\n",
       "      <td>New_Property</td>\n",
       "      <td>Apartment</td>\n",
       "      <td>7290.0</td>\n",
       "      <td>3900000</td>\n",
       "    </tr>\n",
       "    <tr>\n",
       "      <th>2</th>\n",
       "      <td>1280.0</td>\n",
       "      <td>3</td>\n",
       "      <td>3.0</td>\n",
       "      <td>Furnished</td>\n",
       "      <td>Karol Bagh</td>\n",
       "      <td>Central Delhi</td>\n",
       "      <td>2.0</td>\n",
       "      <td>Ready_to_move</td>\n",
       "      <td>Resale</td>\n",
       "      <td>Builder_Floor</td>\n",
       "      <td>14092.0</td>\n",
       "      <td>15000000</td>\n",
       "    </tr>\n",
       "    <tr>\n",
       "      <th>3</th>\n",
       "      <td>1135.0</td>\n",
       "      <td>3</td>\n",
       "      <td>3.0</td>\n",
       "      <td>Furnished</td>\n",
       "      <td>Karol Bagh</td>\n",
       "      <td>Central Delhi</td>\n",
       "      <td>2.0</td>\n",
       "      <td>Almost_ready</td>\n",
       "      <td>Resale</td>\n",
       "      <td>Apartment</td>\n",
       "      <td>22222.0</td>\n",
       "      <td>25000000</td>\n",
       "    </tr>\n",
       "    <tr>\n",
       "      <th>4</th>\n",
       "      <td>1135.0</td>\n",
       "      <td>3</td>\n",
       "      <td>3.0</td>\n",
       "      <td>Furnished</td>\n",
       "      <td>Karol Bagh</td>\n",
       "      <td>Central Delhi</td>\n",
       "      <td>2.0</td>\n",
       "      <td>Almost_ready</td>\n",
       "      <td>Resale</td>\n",
       "      <td>Apartment</td>\n",
       "      <td>22222.0</td>\n",
       "      <td>25000000</td>\n",
       "    </tr>\n",
       "    <tr>\n",
       "      <th>...</th>\n",
       "      <td>...</td>\n",
       "      <td>...</td>\n",
       "      <td>...</td>\n",
       "      <td>...</td>\n",
       "      <td>...</td>\n",
       "      <td>...</td>\n",
       "      <td>...</td>\n",
       "      <td>...</td>\n",
       "      <td>...</td>\n",
       "      <td>...</td>\n",
       "      <td>...</td>\n",
       "      <td>...</td>\n",
       "    </tr>\n",
       "    <tr>\n",
       "      <th>1209</th>\n",
       "      <td>4688.0</td>\n",
       "      <td>5</td>\n",
       "      <td>4.0</td>\n",
       "      <td>Unfurnished</td>\n",
       "      <td>Patel Nagar</td>\n",
       "      <td>West Delhi</td>\n",
       "      <td>1.0</td>\n",
       "      <td>Almost_ready</td>\n",
       "      <td>New_Property</td>\n",
       "      <td>Apartment</td>\n",
       "      <td>28797.0</td>\n",
       "      <td>135000000</td>\n",
       "    </tr>\n",
       "    <tr>\n",
       "      <th>1210</th>\n",
       "      <td>3901.0</td>\n",
       "      <td>4</td>\n",
       "      <td>4.0</td>\n",
       "      <td>Unfurnished</td>\n",
       "      <td>Patel Nagar</td>\n",
       "      <td>West Delhi</td>\n",
       "      <td>1.0</td>\n",
       "      <td>Almost_ready</td>\n",
       "      <td>New_Property</td>\n",
       "      <td>Apartment</td>\n",
       "      <td>23840.0</td>\n",
       "      <td>93000000</td>\n",
       "    </tr>\n",
       "    <tr>\n",
       "      <th>1211</th>\n",
       "      <td>2306.0</td>\n",
       "      <td>3</td>\n",
       "      <td>3.0</td>\n",
       "      <td>Unfurnished</td>\n",
       "      <td>Patel Nagar</td>\n",
       "      <td>West Delhi</td>\n",
       "      <td>1.0</td>\n",
       "      <td>Almost_ready</td>\n",
       "      <td>New_Property</td>\n",
       "      <td>Apartment</td>\n",
       "      <td>24718.0</td>\n",
       "      <td>57000000</td>\n",
       "    </tr>\n",
       "    <tr>\n",
       "      <th>1212</th>\n",
       "      <td>675.0</td>\n",
       "      <td>2</td>\n",
       "      <td>1.0</td>\n",
       "      <td>Unfurnished</td>\n",
       "      <td>Uttam Nagar</td>\n",
       "      <td>West Delhi</td>\n",
       "      <td>1.0</td>\n",
       "      <td>Ready_to_move</td>\n",
       "      <td>Resale</td>\n",
       "      <td>Builder_Floor</td>\n",
       "      <td>5794.0</td>\n",
       "      <td>2900000</td>\n",
       "    </tr>\n",
       "    <tr>\n",
       "      <th>1213</th>\n",
       "      <td>585.0</td>\n",
       "      <td>2</td>\n",
       "      <td>2.0</td>\n",
       "      <td>Unfurnished</td>\n",
       "      <td>Uttam Nagar</td>\n",
       "      <td>West Delhi</td>\n",
       "      <td>1.0</td>\n",
       "      <td>Ready_to_move</td>\n",
       "      <td>Resale</td>\n",
       "      <td>Builder_Floor</td>\n",
       "      <td>5794.0</td>\n",
       "      <td>3200000</td>\n",
       "    </tr>\n",
       "  </tbody>\n",
       "</table>\n",
       "<p>1214 rows × 12 columns</p>\n",
       "</div>"
      ],
      "text/plain": [
       "        Area  BHK  Bathroom   Furnishing     Location       District  Parking  \\\n",
       "0      950.0    2       2.0    Furnished   Karol Bagh  Central Delhi      1.0   \n",
       "1      535.0    2       1.0    Furnished   Karol Bagh  Central Delhi      1.0   \n",
       "2     1280.0    3       3.0    Furnished   Karol Bagh  Central Delhi      2.0   \n",
       "3     1135.0    3       3.0    Furnished   Karol Bagh  Central Delhi      2.0   \n",
       "4     1135.0    3       3.0    Furnished   Karol Bagh  Central Delhi      2.0   \n",
       "...      ...  ...       ...          ...          ...            ...      ...   \n",
       "1209  4688.0    5       4.0  Unfurnished  Patel Nagar     West Delhi      1.0   \n",
       "1210  3901.0    4       4.0  Unfurnished  Patel Nagar     West Delhi      1.0   \n",
       "1211  2306.0    3       3.0  Unfurnished  Patel Nagar     West Delhi      1.0   \n",
       "1212   675.0    2       1.0  Unfurnished  Uttam Nagar     West Delhi      1.0   \n",
       "1213   585.0    2       2.0  Unfurnished  Uttam Nagar     West Delhi      1.0   \n",
       "\n",
       "             Status   Transaction           Type  Per_Sqft      Price  \n",
       "0     Ready_to_move        Resale      Apartment    8761.0   12500000  \n",
       "1     Ready_to_move  New_Property      Apartment    7290.0    3900000  \n",
       "2     Ready_to_move        Resale  Builder_Floor   14092.0   15000000  \n",
       "3      Almost_ready        Resale      Apartment   22222.0   25000000  \n",
       "4      Almost_ready        Resale      Apartment   22222.0   25000000  \n",
       "...             ...           ...            ...       ...        ...  \n",
       "1209   Almost_ready  New_Property      Apartment   28797.0  135000000  \n",
       "1210   Almost_ready  New_Property      Apartment   23840.0   93000000  \n",
       "1211   Almost_ready  New_Property      Apartment   24718.0   57000000  \n",
       "1212  Ready_to_move        Resale  Builder_Floor    5794.0    2900000  \n",
       "1213  Ready_to_move        Resale  Builder_Floor    5794.0    3200000  \n",
       "\n",
       "[1214 rows x 12 columns]"
      ]
     },
     "execution_count": 42,
     "metadata": {},
     "output_type": "execute_result"
    }
   ],
   "source": [
    "df"
   ]
  },
  {
   "cell_type": "code",
   "execution_count": 43,
   "id": "315eda9b",
   "metadata": {},
   "outputs": [
    {
     "data": {
      "text/html": [
       "<div>\n",
       "<style scoped>\n",
       "    .dataframe tbody tr th:only-of-type {\n",
       "        vertical-align: middle;\n",
       "    }\n",
       "\n",
       "    .dataframe tbody tr th {\n",
       "        vertical-align: top;\n",
       "    }\n",
       "\n",
       "    .dataframe thead th {\n",
       "        text-align: right;\n",
       "    }\n",
       "</style>\n",
       "<table border=\"1\" class=\"dataframe\">\n",
       "  <thead>\n",
       "    <tr style=\"text-align: right;\">\n",
       "      <th></th>\n",
       "      <th>Area</th>\n",
       "      <th>BHK</th>\n",
       "      <th>Bathroom</th>\n",
       "      <th>Furnishing</th>\n",
       "      <th>Location</th>\n",
       "      <th>District</th>\n",
       "      <th>Parking</th>\n",
       "      <th>Status</th>\n",
       "      <th>Transaction</th>\n",
       "      <th>Type</th>\n",
       "      <th>Per_Sqft</th>\n",
       "      <th>Price</th>\n",
       "    </tr>\n",
       "  </thead>\n",
       "  <tbody>\n",
       "    <tr>\n",
       "      <th>13</th>\n",
       "      <td>900.0</td>\n",
       "      <td>2</td>\n",
       "      <td>2.0</td>\n",
       "      <td>Furnished</td>\n",
       "      <td>Dilshad Garden</td>\n",
       "      <td>East Delhi</td>\n",
       "      <td>2.0</td>\n",
       "      <td>Ready_to_move</td>\n",
       "      <td>Resale</td>\n",
       "      <td>Builder_Floor</td>\n",
       "      <td>7666.0</td>\n",
       "      <td>6900000</td>\n",
       "    </tr>\n",
       "    <tr>\n",
       "      <th>19</th>\n",
       "      <td>1500.0</td>\n",
       "      <td>2</td>\n",
       "      <td>2.0</td>\n",
       "      <td>Furnished</td>\n",
       "      <td>Okhla</td>\n",
       "      <td>East Delhi</td>\n",
       "      <td>2.0</td>\n",
       "      <td>Almost_ready</td>\n",
       "      <td>New_Property</td>\n",
       "      <td>Apartment</td>\n",
       "      <td>16466.0</td>\n",
       "      <td>24700000</td>\n",
       "    </tr>\n",
       "    <tr>\n",
       "      <th>20</th>\n",
       "      <td>976.0</td>\n",
       "      <td>2</td>\n",
       "      <td>2.0</td>\n",
       "      <td>Furnished</td>\n",
       "      <td>Okhla</td>\n",
       "      <td>East Delhi</td>\n",
       "      <td>2.0</td>\n",
       "      <td>Almost_ready</td>\n",
       "      <td>New_Property</td>\n",
       "      <td>Apartment</td>\n",
       "      <td>25512.0</td>\n",
       "      <td>24900000</td>\n",
       "    </tr>\n",
       "    <tr>\n",
       "      <th>21</th>\n",
       "      <td>675.0</td>\n",
       "      <td>2</td>\n",
       "      <td>2.0</td>\n",
       "      <td>Furnished</td>\n",
       "      <td>Laxmi Nagar</td>\n",
       "      <td>East Delhi</td>\n",
       "      <td>2.0</td>\n",
       "      <td>Ready_to_move</td>\n",
       "      <td>Resale</td>\n",
       "      <td>Builder_Floor</td>\n",
       "      <td>32000.0</td>\n",
       "      <td>2400000</td>\n",
       "    </tr>\n",
       "    <tr>\n",
       "      <th>81</th>\n",
       "      <td>700.0</td>\n",
       "      <td>2</td>\n",
       "      <td>1.0</td>\n",
       "      <td>Furnished</td>\n",
       "      <td>Shahdara</td>\n",
       "      <td>Shahdara</td>\n",
       "      <td>2.0</td>\n",
       "      <td>Ready_to_move</td>\n",
       "      <td>New_Property</td>\n",
       "      <td>Builder_Floor</td>\n",
       "      <td>22857.0</td>\n",
       "      <td>16000000</td>\n",
       "    </tr>\n",
       "    <tr>\n",
       "      <th>...</th>\n",
       "      <td>...</td>\n",
       "      <td>...</td>\n",
       "      <td>...</td>\n",
       "      <td>...</td>\n",
       "      <td>...</td>\n",
       "      <td>...</td>\n",
       "      <td>...</td>\n",
       "      <td>...</td>\n",
       "      <td>...</td>\n",
       "      <td>...</td>\n",
       "      <td>...</td>\n",
       "      <td>...</td>\n",
       "    </tr>\n",
       "    <tr>\n",
       "      <th>1097</th>\n",
       "      <td>900.0</td>\n",
       "      <td>2</td>\n",
       "      <td>2.0</td>\n",
       "      <td>Unfurnished</td>\n",
       "      <td>Lajpat Nagar</td>\n",
       "      <td>South Delhi</td>\n",
       "      <td>2.0</td>\n",
       "      <td>Ready_to_move</td>\n",
       "      <td>Resale</td>\n",
       "      <td>Builder_Floor</td>\n",
       "      <td>7000.0</td>\n",
       "      <td>6300000</td>\n",
       "    </tr>\n",
       "    <tr>\n",
       "      <th>1098</th>\n",
       "      <td>540.0</td>\n",
       "      <td>2</td>\n",
       "      <td>1.0</td>\n",
       "      <td>Unfurnished</td>\n",
       "      <td>Friends Colony</td>\n",
       "      <td>South Delhi</td>\n",
       "      <td>2.0</td>\n",
       "      <td>Ready_to_move</td>\n",
       "      <td>Resale</td>\n",
       "      <td>Builder_Floor</td>\n",
       "      <td>2778.0</td>\n",
       "      <td>1500000</td>\n",
       "    </tr>\n",
       "    <tr>\n",
       "      <th>1101</th>\n",
       "      <td>720.0</td>\n",
       "      <td>2</td>\n",
       "      <td>2.0</td>\n",
       "      <td>Unfurnished</td>\n",
       "      <td>Kalkaji</td>\n",
       "      <td>South East Delhi</td>\n",
       "      <td>2.0</td>\n",
       "      <td>Ready_to_move</td>\n",
       "      <td>Resale</td>\n",
       "      <td>Builder_Floor</td>\n",
       "      <td>NaN</td>\n",
       "      <td>4700000</td>\n",
       "    </tr>\n",
       "    <tr>\n",
       "      <th>1103</th>\n",
       "      <td>900.0</td>\n",
       "      <td>2</td>\n",
       "      <td>2.0</td>\n",
       "      <td>Unfurnished</td>\n",
       "      <td>Kalkaji</td>\n",
       "      <td>South East Delhi</td>\n",
       "      <td>2.0</td>\n",
       "      <td>Ready_to_move</td>\n",
       "      <td>Resale</td>\n",
       "      <td>Apartment</td>\n",
       "      <td>NaN</td>\n",
       "      <td>15000000</td>\n",
       "    </tr>\n",
       "    <tr>\n",
       "      <th>1185</th>\n",
       "      <td>585.0</td>\n",
       "      <td>2</td>\n",
       "      <td>2.0</td>\n",
       "      <td>Unfurnished</td>\n",
       "      <td>Paschim Vihar</td>\n",
       "      <td>West Delhi</td>\n",
       "      <td>2.0</td>\n",
       "      <td>Ready_to_move</td>\n",
       "      <td>Resale</td>\n",
       "      <td>Apartment</td>\n",
       "      <td>14722.0</td>\n",
       "      <td>7000000</td>\n",
       "    </tr>\n",
       "  </tbody>\n",
       "</table>\n",
       "<p>72 rows × 12 columns</p>\n",
       "</div>"
      ],
      "text/plain": [
       "        Area  BHK  Bathroom   Furnishing        Location          District  \\\n",
       "13     900.0    2       2.0    Furnished  Dilshad Garden        East Delhi   \n",
       "19    1500.0    2       2.0    Furnished           Okhla        East Delhi   \n",
       "20     976.0    2       2.0    Furnished           Okhla        East Delhi   \n",
       "21     675.0    2       2.0    Furnished     Laxmi Nagar        East Delhi   \n",
       "81     700.0    2       1.0    Furnished        Shahdara          Shahdara   \n",
       "...      ...  ...       ...          ...             ...               ...   \n",
       "1097   900.0    2       2.0  Unfurnished    Lajpat Nagar       South Delhi   \n",
       "1098   540.0    2       1.0  Unfurnished  Friends Colony       South Delhi   \n",
       "1101   720.0    2       2.0  Unfurnished         Kalkaji  South East Delhi   \n",
       "1103   900.0    2       2.0  Unfurnished         Kalkaji  South East Delhi   \n",
       "1185   585.0    2       2.0  Unfurnished   Paschim Vihar        West Delhi   \n",
       "\n",
       "      Parking         Status   Transaction           Type  Per_Sqft     Price  \n",
       "13        2.0  Ready_to_move        Resale  Builder_Floor    7666.0   6900000  \n",
       "19        2.0   Almost_ready  New_Property      Apartment   16466.0  24700000  \n",
       "20        2.0   Almost_ready  New_Property      Apartment   25512.0  24900000  \n",
       "21        2.0  Ready_to_move        Resale  Builder_Floor   32000.0   2400000  \n",
       "81        2.0  Ready_to_move  New_Property  Builder_Floor   22857.0  16000000  \n",
       "...       ...            ...           ...            ...       ...       ...  \n",
       "1097      2.0  Ready_to_move        Resale  Builder_Floor    7000.0   6300000  \n",
       "1098      2.0  Ready_to_move        Resale  Builder_Floor    2778.0   1500000  \n",
       "1101      2.0  Ready_to_move        Resale  Builder_Floor       NaN   4700000  \n",
       "1103      2.0  Ready_to_move        Resale      Apartment       NaN  15000000  \n",
       "1185      2.0  Ready_to_move        Resale      Apartment   14722.0   7000000  \n",
       "\n",
       "[72 rows x 12 columns]"
      ]
     },
     "execution_count": 43,
     "metadata": {},
     "output_type": "execute_result"
    }
   ],
   "source": [
    "# Data Filteration \n",
    "\n",
    "# Parking =2 and BHK 2\n",
    "\n",
    "df[(df.BHK==2) & (df.Parking==2)]"
   ]
  },
  {
   "cell_type": "code",
   "execution_count": 44,
   "id": "1e8867b1",
   "metadata": {},
   "outputs": [],
   "source": [
    "# I want to save that data in a New File.\n",
    "# We can create a new variable and store this into it.\n",
    "\n",
    "\n",
    "data = df[(df.BHK==2) & (df.Parking==2)]"
   ]
  },
  {
   "cell_type": "code",
   "execution_count": 25,
   "id": "90089d10",
   "metadata": {},
   "outputs": [
    {
     "data": {
      "text/html": [
       "<div>\n",
       "<style scoped>\n",
       "    .dataframe tbody tr th:only-of-type {\n",
       "        vertical-align: middle;\n",
       "    }\n",
       "\n",
       "    .dataframe tbody tr th {\n",
       "        vertical-align: top;\n",
       "    }\n",
       "\n",
       "    .dataframe thead th {\n",
       "        text-align: right;\n",
       "    }\n",
       "</style>\n",
       "<table border=\"1\" class=\"dataframe\">\n",
       "  <thead>\n",
       "    <tr style=\"text-align: right;\">\n",
       "      <th></th>\n",
       "      <th>Area</th>\n",
       "      <th>BHK</th>\n",
       "      <th>Bathroom</th>\n",
       "      <th>Furnishing</th>\n",
       "      <th>Location</th>\n",
       "      <th>District</th>\n",
       "      <th>Parking</th>\n",
       "      <th>Status</th>\n",
       "      <th>Transaction</th>\n",
       "      <th>Type</th>\n",
       "      <th>Per_Sqft</th>\n",
       "      <th>Price</th>\n",
       "    </tr>\n",
       "  </thead>\n",
       "  <tbody>\n",
       "    <tr>\n",
       "      <th>13</th>\n",
       "      <td>900.0</td>\n",
       "      <td>2</td>\n",
       "      <td>2.0</td>\n",
       "      <td>Furnished</td>\n",
       "      <td>Dilshad Garden</td>\n",
       "      <td>East Delhi</td>\n",
       "      <td>2.0</td>\n",
       "      <td>Ready_to_move</td>\n",
       "      <td>Resale</td>\n",
       "      <td>Builder_Floor</td>\n",
       "      <td>7666.0</td>\n",
       "      <td>6900000</td>\n",
       "    </tr>\n",
       "    <tr>\n",
       "      <th>19</th>\n",
       "      <td>1500.0</td>\n",
       "      <td>2</td>\n",
       "      <td>2.0</td>\n",
       "      <td>Furnished</td>\n",
       "      <td>Okhla</td>\n",
       "      <td>East Delhi</td>\n",
       "      <td>2.0</td>\n",
       "      <td>Almost_ready</td>\n",
       "      <td>New_Property</td>\n",
       "      <td>Apartment</td>\n",
       "      <td>16466.0</td>\n",
       "      <td>24700000</td>\n",
       "    </tr>\n",
       "    <tr>\n",
       "      <th>20</th>\n",
       "      <td>976.0</td>\n",
       "      <td>2</td>\n",
       "      <td>2.0</td>\n",
       "      <td>Furnished</td>\n",
       "      <td>Okhla</td>\n",
       "      <td>East Delhi</td>\n",
       "      <td>2.0</td>\n",
       "      <td>Almost_ready</td>\n",
       "      <td>New_Property</td>\n",
       "      <td>Apartment</td>\n",
       "      <td>25512.0</td>\n",
       "      <td>24900000</td>\n",
       "    </tr>\n",
       "    <tr>\n",
       "      <th>21</th>\n",
       "      <td>675.0</td>\n",
       "      <td>2</td>\n",
       "      <td>2.0</td>\n",
       "      <td>Furnished</td>\n",
       "      <td>Laxmi Nagar</td>\n",
       "      <td>East Delhi</td>\n",
       "      <td>2.0</td>\n",
       "      <td>Ready_to_move</td>\n",
       "      <td>Resale</td>\n",
       "      <td>Builder_Floor</td>\n",
       "      <td>32000.0</td>\n",
       "      <td>2400000</td>\n",
       "    </tr>\n",
       "    <tr>\n",
       "      <th>81</th>\n",
       "      <td>700.0</td>\n",
       "      <td>2</td>\n",
       "      <td>1.0</td>\n",
       "      <td>Furnished</td>\n",
       "      <td>Shahdara</td>\n",
       "      <td>Shahdara</td>\n",
       "      <td>2.0</td>\n",
       "      <td>Ready_to_move</td>\n",
       "      <td>New_Property</td>\n",
       "      <td>Builder_Floor</td>\n",
       "      <td>22857.0</td>\n",
       "      <td>16000000</td>\n",
       "    </tr>\n",
       "    <tr>\n",
       "      <th>...</th>\n",
       "      <td>...</td>\n",
       "      <td>...</td>\n",
       "      <td>...</td>\n",
       "      <td>...</td>\n",
       "      <td>...</td>\n",
       "      <td>...</td>\n",
       "      <td>...</td>\n",
       "      <td>...</td>\n",
       "      <td>...</td>\n",
       "      <td>...</td>\n",
       "      <td>...</td>\n",
       "      <td>...</td>\n",
       "    </tr>\n",
       "    <tr>\n",
       "      <th>1097</th>\n",
       "      <td>900.0</td>\n",
       "      <td>2</td>\n",
       "      <td>2.0</td>\n",
       "      <td>Unfurnished</td>\n",
       "      <td>Lajpat Nagar</td>\n",
       "      <td>South Delhi</td>\n",
       "      <td>2.0</td>\n",
       "      <td>Ready_to_move</td>\n",
       "      <td>Resale</td>\n",
       "      <td>Builder_Floor</td>\n",
       "      <td>7000.0</td>\n",
       "      <td>6300000</td>\n",
       "    </tr>\n",
       "    <tr>\n",
       "      <th>1098</th>\n",
       "      <td>540.0</td>\n",
       "      <td>2</td>\n",
       "      <td>1.0</td>\n",
       "      <td>Unfurnished</td>\n",
       "      <td>Friends Colony</td>\n",
       "      <td>South Delhi</td>\n",
       "      <td>2.0</td>\n",
       "      <td>Ready_to_move</td>\n",
       "      <td>Resale</td>\n",
       "      <td>Builder_Floor</td>\n",
       "      <td>2778.0</td>\n",
       "      <td>1500000</td>\n",
       "    </tr>\n",
       "    <tr>\n",
       "      <th>1101</th>\n",
       "      <td>720.0</td>\n",
       "      <td>2</td>\n",
       "      <td>2.0</td>\n",
       "      <td>Unfurnished</td>\n",
       "      <td>Kalkaji</td>\n",
       "      <td>South East Delhi</td>\n",
       "      <td>2.0</td>\n",
       "      <td>Ready_to_move</td>\n",
       "      <td>Resale</td>\n",
       "      <td>Builder_Floor</td>\n",
       "      <td>NaN</td>\n",
       "      <td>4700000</td>\n",
       "    </tr>\n",
       "    <tr>\n",
       "      <th>1103</th>\n",
       "      <td>900.0</td>\n",
       "      <td>2</td>\n",
       "      <td>2.0</td>\n",
       "      <td>Unfurnished</td>\n",
       "      <td>Kalkaji</td>\n",
       "      <td>South East Delhi</td>\n",
       "      <td>2.0</td>\n",
       "      <td>Ready_to_move</td>\n",
       "      <td>Resale</td>\n",
       "      <td>Apartment</td>\n",
       "      <td>NaN</td>\n",
       "      <td>15000000</td>\n",
       "    </tr>\n",
       "    <tr>\n",
       "      <th>1185</th>\n",
       "      <td>585.0</td>\n",
       "      <td>2</td>\n",
       "      <td>2.0</td>\n",
       "      <td>Unfurnished</td>\n",
       "      <td>Paschim Vihar</td>\n",
       "      <td>West Delhi</td>\n",
       "      <td>2.0</td>\n",
       "      <td>Ready_to_move</td>\n",
       "      <td>Resale</td>\n",
       "      <td>Apartment</td>\n",
       "      <td>14722.0</td>\n",
       "      <td>7000000</td>\n",
       "    </tr>\n",
       "  </tbody>\n",
       "</table>\n",
       "<p>72 rows × 12 columns</p>\n",
       "</div>"
      ],
      "text/plain": [
       "        Area  BHK  Bathroom   Furnishing        Location          District  \\\n",
       "13     900.0    2       2.0    Furnished  Dilshad Garden        East Delhi   \n",
       "19    1500.0    2       2.0    Furnished           Okhla        East Delhi   \n",
       "20     976.0    2       2.0    Furnished           Okhla        East Delhi   \n",
       "21     675.0    2       2.0    Furnished     Laxmi Nagar        East Delhi   \n",
       "81     700.0    2       1.0    Furnished        Shahdara          Shahdara   \n",
       "...      ...  ...       ...          ...             ...               ...   \n",
       "1097   900.0    2       2.0  Unfurnished    Lajpat Nagar       South Delhi   \n",
       "1098   540.0    2       1.0  Unfurnished  Friends Colony       South Delhi   \n",
       "1101   720.0    2       2.0  Unfurnished         Kalkaji  South East Delhi   \n",
       "1103   900.0    2       2.0  Unfurnished         Kalkaji  South East Delhi   \n",
       "1185   585.0    2       2.0  Unfurnished   Paschim Vihar        West Delhi   \n",
       "\n",
       "      Parking         Status   Transaction           Type  Per_Sqft     Price  \n",
       "13        2.0  Ready_to_move        Resale  Builder_Floor    7666.0   6900000  \n",
       "19        2.0   Almost_ready  New_Property      Apartment   16466.0  24700000  \n",
       "20        2.0   Almost_ready  New_Property      Apartment   25512.0  24900000  \n",
       "21        2.0  Ready_to_move        Resale  Builder_Floor   32000.0   2400000  \n",
       "81        2.0  Ready_to_move  New_Property  Builder_Floor   22857.0  16000000  \n",
       "...       ...            ...           ...            ...       ...       ...  \n",
       "1097      2.0  Ready_to_move        Resale  Builder_Floor    7000.0   6300000  \n",
       "1098      2.0  Ready_to_move        Resale  Builder_Floor    2778.0   1500000  \n",
       "1101      2.0  Ready_to_move        Resale  Builder_Floor       NaN   4700000  \n",
       "1103      2.0  Ready_to_move        Resale      Apartment       NaN  15000000  \n",
       "1185      2.0  Ready_to_move        Resale      Apartment   14722.0   7000000  \n",
       "\n",
       "[72 rows x 12 columns]"
      ]
     },
     "execution_count": 25,
     "metadata": {},
     "output_type": "execute_result"
    }
   ],
   "source": [
    "data"
   ]
  },
  {
   "cell_type": "code",
   "execution_count": 45,
   "id": "fbbb4359",
   "metadata": {},
   "outputs": [],
   "source": [
    "# How we can make index default or series.\n",
    "\n",
    "data = data.reset_index(drop=True)"
   ]
  },
  {
   "cell_type": "code",
   "execution_count": 46,
   "id": "44dd7288",
   "metadata": {},
   "outputs": [
    {
     "data": {
      "text/html": [
       "<div>\n",
       "<style scoped>\n",
       "    .dataframe tbody tr th:only-of-type {\n",
       "        vertical-align: middle;\n",
       "    }\n",
       "\n",
       "    .dataframe tbody tr th {\n",
       "        vertical-align: top;\n",
       "    }\n",
       "\n",
       "    .dataframe thead th {\n",
       "        text-align: right;\n",
       "    }\n",
       "</style>\n",
       "<table border=\"1\" class=\"dataframe\">\n",
       "  <thead>\n",
       "    <tr style=\"text-align: right;\">\n",
       "      <th></th>\n",
       "      <th>Area</th>\n",
       "      <th>BHK</th>\n",
       "      <th>Bathroom</th>\n",
       "      <th>Furnishing</th>\n",
       "      <th>Location</th>\n",
       "      <th>District</th>\n",
       "      <th>Parking</th>\n",
       "      <th>Status</th>\n",
       "      <th>Transaction</th>\n",
       "      <th>Type</th>\n",
       "      <th>Per_Sqft</th>\n",
       "      <th>Price</th>\n",
       "    </tr>\n",
       "  </thead>\n",
       "  <tbody>\n",
       "    <tr>\n",
       "      <th>0</th>\n",
       "      <td>900.0</td>\n",
       "      <td>2</td>\n",
       "      <td>2.0</td>\n",
       "      <td>Furnished</td>\n",
       "      <td>Dilshad Garden</td>\n",
       "      <td>East Delhi</td>\n",
       "      <td>2.0</td>\n",
       "      <td>Ready_to_move</td>\n",
       "      <td>Resale</td>\n",
       "      <td>Builder_Floor</td>\n",
       "      <td>7666.0</td>\n",
       "      <td>6900000</td>\n",
       "    </tr>\n",
       "    <tr>\n",
       "      <th>1</th>\n",
       "      <td>1500.0</td>\n",
       "      <td>2</td>\n",
       "      <td>2.0</td>\n",
       "      <td>Furnished</td>\n",
       "      <td>Okhla</td>\n",
       "      <td>East Delhi</td>\n",
       "      <td>2.0</td>\n",
       "      <td>Almost_ready</td>\n",
       "      <td>New_Property</td>\n",
       "      <td>Apartment</td>\n",
       "      <td>16466.0</td>\n",
       "      <td>24700000</td>\n",
       "    </tr>\n",
       "    <tr>\n",
       "      <th>2</th>\n",
       "      <td>976.0</td>\n",
       "      <td>2</td>\n",
       "      <td>2.0</td>\n",
       "      <td>Furnished</td>\n",
       "      <td>Okhla</td>\n",
       "      <td>East Delhi</td>\n",
       "      <td>2.0</td>\n",
       "      <td>Almost_ready</td>\n",
       "      <td>New_Property</td>\n",
       "      <td>Apartment</td>\n",
       "      <td>25512.0</td>\n",
       "      <td>24900000</td>\n",
       "    </tr>\n",
       "    <tr>\n",
       "      <th>3</th>\n",
       "      <td>675.0</td>\n",
       "      <td>2</td>\n",
       "      <td>2.0</td>\n",
       "      <td>Furnished</td>\n",
       "      <td>Laxmi Nagar</td>\n",
       "      <td>East Delhi</td>\n",
       "      <td>2.0</td>\n",
       "      <td>Ready_to_move</td>\n",
       "      <td>Resale</td>\n",
       "      <td>Builder_Floor</td>\n",
       "      <td>32000.0</td>\n",
       "      <td>2400000</td>\n",
       "    </tr>\n",
       "    <tr>\n",
       "      <th>4</th>\n",
       "      <td>700.0</td>\n",
       "      <td>2</td>\n",
       "      <td>1.0</td>\n",
       "      <td>Furnished</td>\n",
       "      <td>Shahdara</td>\n",
       "      <td>Shahdara</td>\n",
       "      <td>2.0</td>\n",
       "      <td>Ready_to_move</td>\n",
       "      <td>New_Property</td>\n",
       "      <td>Builder_Floor</td>\n",
       "      <td>22857.0</td>\n",
       "      <td>16000000</td>\n",
       "    </tr>\n",
       "    <tr>\n",
       "      <th>...</th>\n",
       "      <td>...</td>\n",
       "      <td>...</td>\n",
       "      <td>...</td>\n",
       "      <td>...</td>\n",
       "      <td>...</td>\n",
       "      <td>...</td>\n",
       "      <td>...</td>\n",
       "      <td>...</td>\n",
       "      <td>...</td>\n",
       "      <td>...</td>\n",
       "      <td>...</td>\n",
       "      <td>...</td>\n",
       "    </tr>\n",
       "    <tr>\n",
       "      <th>67</th>\n",
       "      <td>900.0</td>\n",
       "      <td>2</td>\n",
       "      <td>2.0</td>\n",
       "      <td>Unfurnished</td>\n",
       "      <td>Lajpat Nagar</td>\n",
       "      <td>South Delhi</td>\n",
       "      <td>2.0</td>\n",
       "      <td>Ready_to_move</td>\n",
       "      <td>Resale</td>\n",
       "      <td>Builder_Floor</td>\n",
       "      <td>7000.0</td>\n",
       "      <td>6300000</td>\n",
       "    </tr>\n",
       "    <tr>\n",
       "      <th>68</th>\n",
       "      <td>540.0</td>\n",
       "      <td>2</td>\n",
       "      <td>1.0</td>\n",
       "      <td>Unfurnished</td>\n",
       "      <td>Friends Colony</td>\n",
       "      <td>South Delhi</td>\n",
       "      <td>2.0</td>\n",
       "      <td>Ready_to_move</td>\n",
       "      <td>Resale</td>\n",
       "      <td>Builder_Floor</td>\n",
       "      <td>2778.0</td>\n",
       "      <td>1500000</td>\n",
       "    </tr>\n",
       "    <tr>\n",
       "      <th>69</th>\n",
       "      <td>720.0</td>\n",
       "      <td>2</td>\n",
       "      <td>2.0</td>\n",
       "      <td>Unfurnished</td>\n",
       "      <td>Kalkaji</td>\n",
       "      <td>South East Delhi</td>\n",
       "      <td>2.0</td>\n",
       "      <td>Ready_to_move</td>\n",
       "      <td>Resale</td>\n",
       "      <td>Builder_Floor</td>\n",
       "      <td>NaN</td>\n",
       "      <td>4700000</td>\n",
       "    </tr>\n",
       "    <tr>\n",
       "      <th>70</th>\n",
       "      <td>900.0</td>\n",
       "      <td>2</td>\n",
       "      <td>2.0</td>\n",
       "      <td>Unfurnished</td>\n",
       "      <td>Kalkaji</td>\n",
       "      <td>South East Delhi</td>\n",
       "      <td>2.0</td>\n",
       "      <td>Ready_to_move</td>\n",
       "      <td>Resale</td>\n",
       "      <td>Apartment</td>\n",
       "      <td>NaN</td>\n",
       "      <td>15000000</td>\n",
       "    </tr>\n",
       "    <tr>\n",
       "      <th>71</th>\n",
       "      <td>585.0</td>\n",
       "      <td>2</td>\n",
       "      <td>2.0</td>\n",
       "      <td>Unfurnished</td>\n",
       "      <td>Paschim Vihar</td>\n",
       "      <td>West Delhi</td>\n",
       "      <td>2.0</td>\n",
       "      <td>Ready_to_move</td>\n",
       "      <td>Resale</td>\n",
       "      <td>Apartment</td>\n",
       "      <td>14722.0</td>\n",
       "      <td>7000000</td>\n",
       "    </tr>\n",
       "  </tbody>\n",
       "</table>\n",
       "<p>72 rows × 12 columns</p>\n",
       "</div>"
      ],
      "text/plain": [
       "      Area  BHK  Bathroom   Furnishing        Location          District  \\\n",
       "0    900.0    2       2.0    Furnished  Dilshad Garden        East Delhi   \n",
       "1   1500.0    2       2.0    Furnished           Okhla        East Delhi   \n",
       "2    976.0    2       2.0    Furnished           Okhla        East Delhi   \n",
       "3    675.0    2       2.0    Furnished     Laxmi Nagar        East Delhi   \n",
       "4    700.0    2       1.0    Furnished        Shahdara          Shahdara   \n",
       "..     ...  ...       ...          ...             ...               ...   \n",
       "67   900.0    2       2.0  Unfurnished    Lajpat Nagar       South Delhi   \n",
       "68   540.0    2       1.0  Unfurnished  Friends Colony       South Delhi   \n",
       "69   720.0    2       2.0  Unfurnished         Kalkaji  South East Delhi   \n",
       "70   900.0    2       2.0  Unfurnished         Kalkaji  South East Delhi   \n",
       "71   585.0    2       2.0  Unfurnished   Paschim Vihar        West Delhi   \n",
       "\n",
       "    Parking         Status   Transaction           Type  Per_Sqft     Price  \n",
       "0       2.0  Ready_to_move        Resale  Builder_Floor    7666.0   6900000  \n",
       "1       2.0   Almost_ready  New_Property      Apartment   16466.0  24700000  \n",
       "2       2.0   Almost_ready  New_Property      Apartment   25512.0  24900000  \n",
       "3       2.0  Ready_to_move        Resale  Builder_Floor   32000.0   2400000  \n",
       "4       2.0  Ready_to_move  New_Property  Builder_Floor   22857.0  16000000  \n",
       "..      ...            ...           ...            ...       ...       ...  \n",
       "67      2.0  Ready_to_move        Resale  Builder_Floor    7000.0   6300000  \n",
       "68      2.0  Ready_to_move        Resale  Builder_Floor    2778.0   1500000  \n",
       "69      2.0  Ready_to_move        Resale  Builder_Floor       NaN   4700000  \n",
       "70      2.0  Ready_to_move        Resale      Apartment       NaN  15000000  \n",
       "71      2.0  Ready_to_move        Resale      Apartment   14722.0   7000000  \n",
       "\n",
       "[72 rows x 12 columns]"
      ]
     },
     "execution_count": 46,
     "metadata": {},
     "output_type": "execute_result"
    }
   ],
   "source": [
    "data"
   ]
  },
  {
   "cell_type": "code",
   "execution_count": 48,
   "id": "46d68960",
   "metadata": {},
   "outputs": [],
   "source": [
    "# Now we want to save this data in a new File in Local Computer.\n",
    "\n",
    "data.to_csv('New_File.csv')"
   ]
  },
  {
   "cell_type": "code",
   "execution_count": 49,
   "id": "05d3ab53",
   "metadata": {},
   "outputs": [],
   "source": [
    "# Removing Null Values"
   ]
  },
  {
   "cell_type": "code",
   "execution_count": 51,
   "id": "d533ab3a",
   "metadata": {},
   "outputs": [
    {
     "data": {
      "text/plain": [
       "Area             0\n",
       "BHK              0\n",
       "Bathroom         2\n",
       "Furnishing       0\n",
       "Location         0\n",
       "District         0\n",
       "Parking         32\n",
       "Status           0\n",
       "Transaction      0\n",
       "Type             5\n",
       "Per_Sqft       241\n",
       "Price            0\n",
       "dtype: int64"
      ]
     },
     "execution_count": 51,
     "metadata": {},
     "output_type": "execute_result"
    }
   ],
   "source": [
    "# What's the method to check Null Values in a Data.\n",
    "\n",
    "df.isnull().sum()"
   ]
  },
  {
   "cell_type": "code",
   "execution_count": 52,
   "id": "7da26921",
   "metadata": {},
   "outputs": [],
   "source": [
    "df.Bathroom = df.Bathroom.fillna(df.Bathroom.median())\n",
    "df.Parking = df.Parking.fillna(df.Parking.median())\n",
    "df.Type = df.Type.fillna(df.Type.mode()[0]) # Fill categorical Dtaa With Mode.\n",
    "df.Per_Sqft = df.Per_Sqft.fillna(df.Per_Sqft.median())"
   ]
  },
  {
   "cell_type": "code",
   "execution_count": 53,
   "id": "52c6d624",
   "metadata": {},
   "outputs": [
    {
     "data": {
      "text/plain": [
       "Area           0\n",
       "BHK            0\n",
       "Bathroom       0\n",
       "Furnishing     0\n",
       "Location       0\n",
       "District       0\n",
       "Parking        0\n",
       "Status         0\n",
       "Transaction    0\n",
       "Type           0\n",
       "Per_Sqft       0\n",
       "Price          0\n",
       "dtype: int64"
      ]
     },
     "execution_count": 53,
     "metadata": {},
     "output_type": "execute_result"
    }
   ],
   "source": [
    "df.isnull().sum()"
   ]
  },
  {
   "cell_type": "code",
   "execution_count": 65,
   "id": "ffb7a731",
   "metadata": {},
   "outputs": [],
   "source": [
    "# Data Distribution in Magic bricks\n",
    "\n",
    "import seaborn as sns"
   ]
  },
  {
   "cell_type": "code",
   "execution_count": 67,
   "id": "c60f1a41",
   "metadata": {},
   "outputs": [
    {
     "data": {
      "text/plain": [
       "<Axes: xlabel='Price', ylabel='Density'>"
      ]
     },
     "execution_count": 67,
     "metadata": {},
     "output_type": "execute_result"
    },
    {
     "data": {
      "image/png": "[encoded data removed]",
      "text/plain": [
       "<Figure size 640x480 with 1 Axes>"
      ]
     },
     "metadata": {},
     "output_type": "display_data"
    }
   ],
   "source": [
    "sns.kdeplot(df.Price,fill=True)"
   ]
  },
  {
   "cell_type": "code",
   "execution_count": 68,
   "id": "0f730518",
   "metadata": {},
   "outputs": [
    {
     "data": {
      "text/plain": [
       "<Axes: xlabel='Price', ylabel='Area'>"
      ]
     },
     "execution_count": 68,
     "metadata": {},
     "output_type": "execute_result"
    },
    {
     "data": {
      "image/png": "[encoded data removed]",
      "text/plain": [
       "<Figure size 640x480 with 1 Axes>"
      ]
     },
     "metadata": {},
     "output_type": "display_data"
    }
   ],
   "source": [
    "sns.scatterplot(x=df.Price,y=df.Area)"
   ]
  },
  {
   "cell_type": "code",
   "execution_count": 99,
   "id": "26c59a4d",
   "metadata": {},
   "outputs": [
    {
     "data": {
      "text/plain": [
       "<Axes: xlabel='Price', ylabel='Area'>"
      ]
     },
     "execution_count": 99,
     "metadata": {},
     "output_type": "execute_result"
    },
    {
     "data": {
      "image/png": "[encoded data removed]",
      "text/plain": [
       "<Figure size 640x480 with 1 Axes>"
      ]
     },
     "metadata": {},
     "output_type": "display_data"
    }
   ],
   "source": [
    "sns.scatterplot(x=df.Price,y=df.Area)"
   ]
  },
  {
   "cell_type": "code",
   "execution_count": 69,
   "id": "78ab4e0b",
   "metadata": {},
   "outputs": [
    {
     "data": {
      "text/html": [
       "<div>\n",
       "<style scoped>\n",
       "    .dataframe tbody tr th:only-of-type {\n",
       "        vertical-align: middle;\n",
       "    }\n",
       "\n",
       "    .dataframe tbody tr th {\n",
       "        vertical-align: top;\n",
       "    }\n",
       "\n",
       "    .dataframe thead th {\n",
       "        text-align: right;\n",
       "    }\n",
       "</style>\n",
       "<table border=\"1\" class=\"dataframe\">\n",
       "  <thead>\n",
       "    <tr style=\"text-align: right;\">\n",
       "      <th></th>\n",
       "      <th>Area</th>\n",
       "      <th>BHK</th>\n",
       "      <th>Bathroom</th>\n",
       "      <th>Parking</th>\n",
       "      <th>Per_Sqft</th>\n",
       "      <th>Price</th>\n",
       "    </tr>\n",
       "  </thead>\n",
       "  <tbody>\n",
       "    <tr>\n",
       "      <th>count</th>\n",
       "      <td>1214.000000</td>\n",
       "      <td>1214.000000</td>\n",
       "      <td>1214.000000</td>\n",
       "      <td>1214.000000</td>\n",
       "      <td>1214.000000</td>\n",
       "      <td>1.214000e+03</td>\n",
       "    </tr>\n",
       "    <tr>\n",
       "      <th>mean</th>\n",
       "      <td>1451.850751</td>\n",
       "      <td>2.778418</td>\n",
       "      <td>2.523064</td>\n",
       "      <td>1.689456</td>\n",
       "      <td>14634.532125</td>\n",
       "      <td>2.079898e+07</td>\n",
       "    </tr>\n",
       "    <tr>\n",
       "      <th>std</th>\n",
       "      <td>1586.472855</td>\n",
       "      <td>0.946811</td>\n",
       "      <td>1.017106</td>\n",
       "      <td>5.642403</td>\n",
       "      <td>19404.906336</td>\n",
       "      <td>2.561308e+07</td>\n",
       "    </tr>\n",
       "    <tr>\n",
       "      <th>min</th>\n",
       "      <td>28.000000</td>\n",
       "      <td>1.000000</td>\n",
       "      <td>1.000000</td>\n",
       "      <td>1.000000</td>\n",
       "      <td>1259.000000</td>\n",
       "      <td>1.000000e+06</td>\n",
       "    </tr>\n",
       "    <tr>\n",
       "      <th>25%</th>\n",
       "      <td>800.000000</td>\n",
       "      <td>2.000000</td>\n",
       "      <td>2.000000</td>\n",
       "      <td>1.000000</td>\n",
       "      <td>6708.000000</td>\n",
       "      <td>5.600000e+06</td>\n",
       "    </tr>\n",
       "    <tr>\n",
       "      <th>50%</th>\n",
       "      <td>1150.000000</td>\n",
       "      <td>3.000000</td>\n",
       "      <td>2.000000</td>\n",
       "      <td>1.000000</td>\n",
       "      <td>10838.000000</td>\n",
       "      <td>1.400000e+07</td>\n",
       "    </tr>\n",
       "    <tr>\n",
       "      <th>75%</th>\n",
       "      <td>1620.000000</td>\n",
       "      <td>3.000000</td>\n",
       "      <td>3.000000</td>\n",
       "      <td>2.000000</td>\n",
       "      <td>14888.000000</td>\n",
       "      <td>2.500000e+07</td>\n",
       "    </tr>\n",
       "    <tr>\n",
       "      <th>max</th>\n",
       "      <td>24300.000000</td>\n",
       "      <td>10.000000</td>\n",
       "      <td>7.000000</td>\n",
       "      <td>114.000000</td>\n",
       "      <td>183333.000000</td>\n",
       "      <td>2.400000e+08</td>\n",
       "    </tr>\n",
       "  </tbody>\n",
       "</table>\n",
       "</div>"
      ],
      "text/plain": [
       "               Area          BHK     Bathroom      Parking       Per_Sqft  \\\n",
       "count   1214.000000  1214.000000  1214.000000  1214.000000    1214.000000   \n",
       "mean    1451.850751     2.778418     2.523064     1.689456   14634.532125   \n",
       "std     1586.472855     0.946811     1.017106     5.642403   19404.906336   \n",
       "min       28.000000     1.000000     1.000000     1.000000    1259.000000   \n",
       "25%      800.000000     2.000000     2.000000     1.000000    6708.000000   \n",
       "50%     1150.000000     3.000000     2.000000     1.000000   10838.000000   \n",
       "75%     1620.000000     3.000000     3.000000     2.000000   14888.000000   \n",
       "max    24300.000000    10.000000     7.000000   114.000000  183333.000000   \n",
       "\n",
       "              Price  \n",
       "count  1.214000e+03  \n",
       "mean   2.079898e+07  \n",
       "std    2.561308e+07  \n",
       "min    1.000000e+06  \n",
       "25%    5.600000e+06  \n",
       "50%    1.400000e+07  \n",
       "75%    2.500000e+07  \n",
       "max    2.400000e+08  "
      ]
     },
     "execution_count": 69,
     "metadata": {},
     "output_type": "execute_result"
    }
   ],
   "source": [
    "# Concepts of Outliers\n",
    "\n",
    "df.describe()  # Summary"
   ]
  },
  {
   "cell_type": "code",
   "execution_count": 70,
   "id": "a77ed278",
   "metadata": {},
   "outputs": [
    {
     "data": {
      "text/html": [
       "<div>\n",
       "<style scoped>\n",
       "    .dataframe tbody tr th:only-of-type {\n",
       "        vertical-align: middle;\n",
       "    }\n",
       "\n",
       "    .dataframe tbody tr th {\n",
       "        vertical-align: top;\n",
       "    }\n",
       "\n",
       "    .dataframe thead th {\n",
       "        text-align: right;\n",
       "    }\n",
       "</style>\n",
       "<table border=\"1\" class=\"dataframe\">\n",
       "  <thead>\n",
       "    <tr style=\"text-align: right;\">\n",
       "      <th></th>\n",
       "      <th>Area</th>\n",
       "      <th>BHK</th>\n",
       "      <th>Bathroom</th>\n",
       "      <th>Furnishing</th>\n",
       "      <th>Location</th>\n",
       "      <th>District</th>\n",
       "      <th>Parking</th>\n",
       "      <th>Status</th>\n",
       "      <th>Transaction</th>\n",
       "      <th>Type</th>\n",
       "      <th>Per_Sqft</th>\n",
       "      <th>Price</th>\n",
       "    </tr>\n",
       "  </thead>\n",
       "  <tbody>\n",
       "    <tr>\n",
       "      <th>count</th>\n",
       "      <td>1214.000000</td>\n",
       "      <td>1214.000000</td>\n",
       "      <td>1214.000000</td>\n",
       "      <td>1214</td>\n",
       "      <td>1214</td>\n",
       "      <td>1214</td>\n",
       "      <td>1214.000000</td>\n",
       "      <td>1214</td>\n",
       "      <td>1214</td>\n",
       "      <td>1214</td>\n",
       "      <td>1214.000000</td>\n",
       "      <td>1.214000e+03</td>\n",
       "    </tr>\n",
       "    <tr>\n",
       "      <th>unique</th>\n",
       "      <td>NaN</td>\n",
       "      <td>NaN</td>\n",
       "      <td>NaN</td>\n",
       "      <td>3</td>\n",
       "      <td>35</td>\n",
       "      <td>9</td>\n",
       "      <td>NaN</td>\n",
       "      <td>2</td>\n",
       "      <td>2</td>\n",
       "      <td>2</td>\n",
       "      <td>NaN</td>\n",
       "      <td>NaN</td>\n",
       "    </tr>\n",
       "    <tr>\n",
       "      <th>top</th>\n",
       "      <td>NaN</td>\n",
       "      <td>NaN</td>\n",
       "      <td>NaN</td>\n",
       "      <td>Semi-Furnished</td>\n",
       "      <td>Lajpat Nagar</td>\n",
       "      <td>South Delhi</td>\n",
       "      <td>NaN</td>\n",
       "      <td>Ready_to_move</td>\n",
       "      <td>Resale</td>\n",
       "      <td>Builder_Floor</td>\n",
       "      <td>NaN</td>\n",
       "      <td>NaN</td>\n",
       "    </tr>\n",
       "    <tr>\n",
       "      <th>freq</th>\n",
       "      <td>NaN</td>\n",
       "      <td>NaN</td>\n",
       "      <td>NaN</td>\n",
       "      <td>677</td>\n",
       "      <td>90</td>\n",
       "      <td>459</td>\n",
       "      <td>NaN</td>\n",
       "      <td>1141</td>\n",
       "      <td>748</td>\n",
       "      <td>659</td>\n",
       "      <td>NaN</td>\n",
       "      <td>NaN</td>\n",
       "    </tr>\n",
       "    <tr>\n",
       "      <th>mean</th>\n",
       "      <td>1451.850751</td>\n",
       "      <td>2.778418</td>\n",
       "      <td>2.523064</td>\n",
       "      <td>NaN</td>\n",
       "      <td>NaN</td>\n",
       "      <td>NaN</td>\n",
       "      <td>1.689456</td>\n",
       "      <td>NaN</td>\n",
       "      <td>NaN</td>\n",
       "      <td>NaN</td>\n",
       "      <td>14634.532125</td>\n",
       "      <td>2.079898e+07</td>\n",
       "    </tr>\n",
       "    <tr>\n",
       "      <th>std</th>\n",
       "      <td>1586.472855</td>\n",
       "      <td>0.946811</td>\n",
       "      <td>1.017106</td>\n",
       "      <td>NaN</td>\n",
       "      <td>NaN</td>\n",
       "      <td>NaN</td>\n",
       "      <td>5.642403</td>\n",
       "      <td>NaN</td>\n",
       "      <td>NaN</td>\n",
       "      <td>NaN</td>\n",
       "      <td>19404.906336</td>\n",
       "      <td>2.561308e+07</td>\n",
       "    </tr>\n",
       "    <tr>\n",
       "      <th>min</th>\n",
       "      <td>28.000000</td>\n",
       "      <td>1.000000</td>\n",
       "      <td>1.000000</td>\n",
       "      <td>NaN</td>\n",
       "      <td>NaN</td>\n",
       "      <td>NaN</td>\n",
       "      <td>1.000000</td>\n",
       "      <td>NaN</td>\n",
       "      <td>NaN</td>\n",
       "      <td>NaN</td>\n",
       "      <td>1259.000000</td>\n",
       "      <td>1.000000e+06</td>\n",
       "    </tr>\n",
       "    <tr>\n",
       "      <th>25%</th>\n",
       "      <td>800.000000</td>\n",
       "      <td>2.000000</td>\n",
       "      <td>2.000000</td>\n",
       "      <td>NaN</td>\n",
       "      <td>NaN</td>\n",
       "      <td>NaN</td>\n",
       "      <td>1.000000</td>\n",
       "      <td>NaN</td>\n",
       "      <td>NaN</td>\n",
       "      <td>NaN</td>\n",
       "      <td>6708.000000</td>\n",
       "      <td>5.600000e+06</td>\n",
       "    </tr>\n",
       "    <tr>\n",
       "      <th>50%</th>\n",
       "      <td>1150.000000</td>\n",
       "      <td>3.000000</td>\n",
       "      <td>2.000000</td>\n",
       "      <td>NaN</td>\n",
       "      <td>NaN</td>\n",
       "      <td>NaN</td>\n",
       "      <td>1.000000</td>\n",
       "      <td>NaN</td>\n",
       "      <td>NaN</td>\n",
       "      <td>NaN</td>\n",
       "      <td>10838.000000</td>\n",
       "      <td>1.400000e+07</td>\n",
       "    </tr>\n",
       "    <tr>\n",
       "      <th>75%</th>\n",
       "      <td>1620.000000</td>\n",
       "      <td>3.000000</td>\n",
       "      <td>3.000000</td>\n",
       "      <td>NaN</td>\n",
       "      <td>NaN</td>\n",
       "      <td>NaN</td>\n",
       "      <td>2.000000</td>\n",
       "      <td>NaN</td>\n",
       "      <td>NaN</td>\n",
       "      <td>NaN</td>\n",
       "      <td>14888.000000</td>\n",
       "      <td>2.500000e+07</td>\n",
       "    </tr>\n",
       "    <tr>\n",
       "      <th>max</th>\n",
       "      <td>24300.000000</td>\n",
       "      <td>10.000000</td>\n",
       "      <td>7.000000</td>\n",
       "      <td>NaN</td>\n",
       "      <td>NaN</td>\n",
       "      <td>NaN</td>\n",
       "      <td>114.000000</td>\n",
       "      <td>NaN</td>\n",
       "      <td>NaN</td>\n",
       "      <td>NaN</td>\n",
       "      <td>183333.000000</td>\n",
       "      <td>2.400000e+08</td>\n",
       "    </tr>\n",
       "  </tbody>\n",
       "</table>\n",
       "</div>"
      ],
      "text/plain": [
       "                Area          BHK     Bathroom      Furnishing      Location  \\\n",
       "count    1214.000000  1214.000000  1214.000000            1214          1214   \n",
       "unique           NaN          NaN          NaN               3            35   \n",
       "top              NaN          NaN          NaN  Semi-Furnished  Lajpat Nagar   \n",
       "freq             NaN          NaN          NaN             677            90   \n",
       "mean     1451.850751     2.778418     2.523064             NaN           NaN   \n",
       "std      1586.472855     0.946811     1.017106             NaN           NaN   \n",
       "min        28.000000     1.000000     1.000000             NaN           NaN   \n",
       "25%       800.000000     2.000000     2.000000             NaN           NaN   \n",
       "50%      1150.000000     3.000000     2.000000             NaN           NaN   \n",
       "75%      1620.000000     3.000000     3.000000             NaN           NaN   \n",
       "max     24300.000000    10.000000     7.000000             NaN           NaN   \n",
       "\n",
       "           District      Parking         Status Transaction           Type  \\\n",
       "count          1214  1214.000000           1214        1214           1214   \n",
       "unique            9          NaN              2           2              2   \n",
       "top     South Delhi          NaN  Ready_to_move      Resale  Builder_Floor   \n",
       "freq            459          NaN           1141         748            659   \n",
       "mean            NaN     1.689456            NaN         NaN            NaN   \n",
       "std             NaN     5.642403            NaN         NaN            NaN   \n",
       "min             NaN     1.000000            NaN         NaN            NaN   \n",
       "25%             NaN     1.000000            NaN         NaN            NaN   \n",
       "50%             NaN     1.000000            NaN         NaN            NaN   \n",
       "75%             NaN     2.000000            NaN         NaN            NaN   \n",
       "max             NaN   114.000000            NaN         NaN            NaN   \n",
       "\n",
       "             Per_Sqft         Price  \n",
       "count     1214.000000  1.214000e+03  \n",
       "unique            NaN           NaN  \n",
       "top               NaN           NaN  \n",
       "freq              NaN           NaN  \n",
       "mean     14634.532125  2.079898e+07  \n",
       "std      19404.906336  2.561308e+07  \n",
       "min       1259.000000  1.000000e+06  \n",
       "25%       6708.000000  5.600000e+06  \n",
       "50%      10838.000000  1.400000e+07  \n",
       "75%      14888.000000  2.500000e+07  \n",
       "max     183333.000000  2.400000e+08  "
      ]
     },
     "execution_count": 70,
     "metadata": {},
     "output_type": "execute_result"
    }
   ],
   "source": [
    "# We can also use an argument to include text data\n",
    "\n",
    "df.describe(include='all')"
   ]
  },
  {
   "cell_type": "code",
   "execution_count": 73,
   "id": "9a6bed34",
   "metadata": {},
   "outputs": [
    {
     "data": {
      "text/plain": [
       "Furnishing\n",
       "Semi-Furnished    677\n",
       "Unfurnished       361\n",
       "Furnished         176\n",
       "Name: count, dtype: int64"
      ]
     },
     "execution_count": 73,
     "metadata": {},
     "output_type": "execute_result"
    }
   ],
   "source": [
    "df.Furnishing.value_counts()"
   ]
  },
  {
   "cell_type": "code",
   "execution_count": 74,
   "id": "df8f6b78",
   "metadata": {
    "scrolled": true
   },
   "outputs": [
    {
     "data": {
      "text/html": [
       "<div>\n",
       "<style scoped>\n",
       "    .dataframe tbody tr th:only-of-type {\n",
       "        vertical-align: middle;\n",
       "    }\n",
       "\n",
       "    .dataframe tbody tr th {\n",
       "        vertical-align: top;\n",
       "    }\n",
       "\n",
       "    .dataframe thead th {\n",
       "        text-align: right;\n",
       "    }\n",
       "</style>\n",
       "<table border=\"1\" class=\"dataframe\">\n",
       "  <thead>\n",
       "    <tr style=\"text-align: right;\">\n",
       "      <th></th>\n",
       "      <th>Area</th>\n",
       "      <th>BHK</th>\n",
       "      <th>Bathroom</th>\n",
       "      <th>Parking</th>\n",
       "      <th>Per_Sqft</th>\n",
       "      <th>Price</th>\n",
       "    </tr>\n",
       "  </thead>\n",
       "  <tbody>\n",
       "    <tr>\n",
       "      <th>count</th>\n",
       "      <td>1214.000000</td>\n",
       "      <td>1214.000000</td>\n",
       "      <td>1214.000000</td>\n",
       "      <td>1214.000000</td>\n",
       "      <td>1214.000000</td>\n",
       "      <td>1.214000e+03</td>\n",
       "    </tr>\n",
       "    <tr>\n",
       "      <th>mean</th>\n",
       "      <td>1451.850751</td>\n",
       "      <td>2.778418</td>\n",
       "      <td>2.523064</td>\n",
       "      <td>1.689456</td>\n",
       "      <td>14634.532125</td>\n",
       "      <td>2.079898e+07</td>\n",
       "    </tr>\n",
       "    <tr>\n",
       "      <th>std</th>\n",
       "      <td>1586.472855</td>\n",
       "      <td>0.946811</td>\n",
       "      <td>1.017106</td>\n",
       "      <td>5.642403</td>\n",
       "      <td>19404.906336</td>\n",
       "      <td>2.561308e+07</td>\n",
       "    </tr>\n",
       "    <tr>\n",
       "      <th>min</th>\n",
       "      <td>28.000000</td>\n",
       "      <td>1.000000</td>\n",
       "      <td>1.000000</td>\n",
       "      <td>1.000000</td>\n",
       "      <td>1259.000000</td>\n",
       "      <td>1.000000e+06</td>\n",
       "    </tr>\n",
       "    <tr>\n",
       "      <th>25%</th>\n",
       "      <td>800.000000</td>\n",
       "      <td>2.000000</td>\n",
       "      <td>2.000000</td>\n",
       "      <td>1.000000</td>\n",
       "      <td>6708.000000</td>\n",
       "      <td>5.600000e+06</td>\n",
       "    </tr>\n",
       "    <tr>\n",
       "      <th>50%</th>\n",
       "      <td>1150.000000</td>\n",
       "      <td>3.000000</td>\n",
       "      <td>2.000000</td>\n",
       "      <td>1.000000</td>\n",
       "      <td>10838.000000</td>\n",
       "      <td>1.400000e+07</td>\n",
       "    </tr>\n",
       "    <tr>\n",
       "      <th>75%</th>\n",
       "      <td>1620.000000</td>\n",
       "      <td>3.000000</td>\n",
       "      <td>3.000000</td>\n",
       "      <td>2.000000</td>\n",
       "      <td>14888.000000</td>\n",
       "      <td>2.500000e+07</td>\n",
       "    </tr>\n",
       "    <tr>\n",
       "      <th>max</th>\n",
       "      <td>24300.000000</td>\n",
       "      <td>10.000000</td>\n",
       "      <td>7.000000</td>\n",
       "      <td>114.000000</td>\n",
       "      <td>183333.000000</td>\n",
       "      <td>2.400000e+08</td>\n",
       "    </tr>\n",
       "  </tbody>\n",
       "</table>\n",
       "</div>"
      ],
      "text/plain": [
       "               Area          BHK     Bathroom      Parking       Per_Sqft  \\\n",
       "count   1214.000000  1214.000000  1214.000000  1214.000000    1214.000000   \n",
       "mean    1451.850751     2.778418     2.523064     1.689456   14634.532125   \n",
       "std     1586.472855     0.946811     1.017106     5.642403   19404.906336   \n",
       "min       28.000000     1.000000     1.000000     1.000000    1259.000000   \n",
       "25%      800.000000     2.000000     2.000000     1.000000    6708.000000   \n",
       "50%     1150.000000     3.000000     2.000000     1.000000   10838.000000   \n",
       "75%     1620.000000     3.000000     3.000000     2.000000   14888.000000   \n",
       "max    24300.000000    10.000000     7.000000   114.000000  183333.000000   \n",
       "\n",
       "              Price  \n",
       "count  1.214000e+03  \n",
       "mean   2.079898e+07  \n",
       "std    2.561308e+07  \n",
       "min    1.000000e+06  \n",
       "25%    5.600000e+06  \n",
       "50%    1.400000e+07  \n",
       "75%    2.500000e+07  \n",
       "max    2.400000e+08  "
      ]
     },
     "execution_count": 74,
     "metadata": {},
     "output_type": "execute_result"
    }
   ],
   "source": [
    "df.describe()"
   ]
  },
  {
   "cell_type": "code",
   "execution_count": 76,
   "id": "103ad7c2",
   "metadata": {},
   "outputs": [
    {
     "data": {
      "text/plain": [
       "<Axes: xlabel='Price'>"
      ]
     },
     "execution_count": 76,
     "metadata": {},
     "output_type": "execute_result"
    },
    {
     "data": {
      "image/png": "[encoded data removed]",
      "text/plain": [
       "<Figure size 640x480 with 1 Axes>"
      ]
     },
     "metadata": {},
     "output_type": "display_data"
    }
   ],
   "source": [
    "# With Boxplots we can detect Outliers\n",
    "\n",
    "sns.boxplot(df.Price,orient='h')"
   ]
  },
  {
   "cell_type": "code",
   "execution_count": 77,
   "id": "e48c7267",
   "metadata": {},
   "outputs": [
    {
     "data": {
      "text/plain": [
       "1150.0"
      ]
     },
     "execution_count": 77,
     "metadata": {},
     "output_type": "execute_result"
    }
   ],
   "source": [
    "df.Area.median()"
   ]
  },
  {
   "cell_type": "code",
   "execution_count": 79,
   "id": "aaecd35b",
   "metadata": {},
   "outputs": [
    {
     "data": {
      "text/html": [
       "<div>\n",
       "<style scoped>\n",
       "    .dataframe tbody tr th:only-of-type {\n",
       "        vertical-align: middle;\n",
       "    }\n",
       "\n",
       "    .dataframe tbody tr th {\n",
       "        vertical-align: top;\n",
       "    }\n",
       "\n",
       "    .dataframe thead th {\n",
       "        text-align: right;\n",
       "    }\n",
       "</style>\n",
       "<table border=\"1\" class=\"dataframe\">\n",
       "  <thead>\n",
       "    <tr style=\"text-align: right;\">\n",
       "      <th></th>\n",
       "      <th>Area</th>\n",
       "      <th>BHK</th>\n",
       "      <th>Bathroom</th>\n",
       "      <th>Parking</th>\n",
       "      <th>Per_Sqft</th>\n",
       "      <th>Price</th>\n",
       "    </tr>\n",
       "  </thead>\n",
       "  <tbody>\n",
       "    <tr>\n",
       "      <th>count</th>\n",
       "      <td>1214.000000</td>\n",
       "      <td>1214.000000</td>\n",
       "      <td>1214.000000</td>\n",
       "      <td>1214.000000</td>\n",
       "      <td>1214.000000</td>\n",
       "      <td>1.214000e+03</td>\n",
       "    </tr>\n",
       "    <tr>\n",
       "      <th>mean</th>\n",
       "      <td>1451.850751</td>\n",
       "      <td>2.778418</td>\n",
       "      <td>2.523064</td>\n",
       "      <td>1.689456</td>\n",
       "      <td>14634.532125</td>\n",
       "      <td>2.079898e+07</td>\n",
       "    </tr>\n",
       "    <tr>\n",
       "      <th>std</th>\n",
       "      <td>1586.472855</td>\n",
       "      <td>0.946811</td>\n",
       "      <td>1.017106</td>\n",
       "      <td>5.642403</td>\n",
       "      <td>19404.906336</td>\n",
       "      <td>2.561308e+07</td>\n",
       "    </tr>\n",
       "    <tr>\n",
       "      <th>min</th>\n",
       "      <td>28.000000</td>\n",
       "      <td>1.000000</td>\n",
       "      <td>1.000000</td>\n",
       "      <td>1.000000</td>\n",
       "      <td>1259.000000</td>\n",
       "      <td>1.000000e+06</td>\n",
       "    </tr>\n",
       "    <tr>\n",
       "      <th>25%</th>\n",
       "      <td>800.000000</td>\n",
       "      <td>2.000000</td>\n",
       "      <td>2.000000</td>\n",
       "      <td>1.000000</td>\n",
       "      <td>6708.000000</td>\n",
       "      <td>5.600000e+06</td>\n",
       "    </tr>\n",
       "    <tr>\n",
       "      <th>50%</th>\n",
       "      <td>1150.000000</td>\n",
       "      <td>3.000000</td>\n",
       "      <td>2.000000</td>\n",
       "      <td>1.000000</td>\n",
       "      <td>10838.000000</td>\n",
       "      <td>1.400000e+07</td>\n",
       "    </tr>\n",
       "    <tr>\n",
       "      <th>75%</th>\n",
       "      <td>1620.000000</td>\n",
       "      <td>3.000000</td>\n",
       "      <td>3.000000</td>\n",
       "      <td>2.000000</td>\n",
       "      <td>14888.000000</td>\n",
       "      <td>2.500000e+07</td>\n",
       "    </tr>\n",
       "    <tr>\n",
       "      <th>max</th>\n",
       "      <td>24300.000000</td>\n",
       "      <td>10.000000</td>\n",
       "      <td>7.000000</td>\n",
       "      <td>114.000000</td>\n",
       "      <td>183333.000000</td>\n",
       "      <td>2.400000e+08</td>\n",
       "    </tr>\n",
       "  </tbody>\n",
       "</table>\n",
       "</div>"
      ],
      "text/plain": [
       "               Area          BHK     Bathroom      Parking       Per_Sqft  \\\n",
       "count   1214.000000  1214.000000  1214.000000  1214.000000    1214.000000   \n",
       "mean    1451.850751     2.778418     2.523064     1.689456   14634.532125   \n",
       "std     1586.472855     0.946811     1.017106     5.642403   19404.906336   \n",
       "min       28.000000     1.000000     1.000000     1.000000    1259.000000   \n",
       "25%      800.000000     2.000000     2.000000     1.000000    6708.000000   \n",
       "50%     1150.000000     3.000000     2.000000     1.000000   10838.000000   \n",
       "75%     1620.000000     3.000000     3.000000     2.000000   14888.000000   \n",
       "max    24300.000000    10.000000     7.000000   114.000000  183333.000000   \n",
       "\n",
       "              Price  \n",
       "count  1.214000e+03  \n",
       "mean   2.079898e+07  \n",
       "std    2.561308e+07  \n",
       "min    1.000000e+06  \n",
       "25%    5.600000e+06  \n",
       "50%    1.400000e+07  \n",
       "75%    2.500000e+07  \n",
       "max    2.400000e+08  "
      ]
     },
     "execution_count": 79,
     "metadata": {},
     "output_type": "execute_result"
    }
   ],
   "source": [
    "df.describe()"
   ]
  },
  {
   "cell_type": "code",
   "execution_count": 80,
   "id": "0c8cca20",
   "metadata": {},
   "outputs": [],
   "source": [
    "Q1,Q3 = df.Price.quantile([0.25,0.75])"
   ]
  },
  {
   "cell_type": "code",
   "execution_count": 82,
   "id": "523bd7ad",
   "metadata": {},
   "outputs": [
    {
     "data": {
      "text/plain": [
       "(5600000.0, 25000000.0)"
      ]
     },
     "execution_count": 82,
     "metadata": {},
     "output_type": "execute_result"
    }
   ],
   "source": [
    "Q1,Q3"
   ]
  },
  {
   "cell_type": "code",
   "execution_count": 83,
   "id": "2b46db7d",
   "metadata": {},
   "outputs": [],
   "source": [
    "IQR = Q3 - Q1"
   ]
  },
  {
   "cell_type": "code",
   "execution_count": 84,
   "id": "45b526e3",
   "metadata": {},
   "outputs": [
    {
     "data": {
      "text/plain": [
       "19400000.0"
      ]
     },
     "execution_count": 84,
     "metadata": {},
     "output_type": "execute_result"
    }
   ],
   "source": [
    "IQR"
   ]
  },
  {
   "cell_type": "code",
   "execution_count": 85,
   "id": "8aecac8f",
   "metadata": {},
   "outputs": [],
   "source": [
    "UL = Q3 + 1.5 * (IQR)\n",
    "LL = Q1 - 1.5 * (IQR)"
   ]
  },
  {
   "cell_type": "code",
   "execution_count": 86,
   "id": "91986f44",
   "metadata": {},
   "outputs": [
    {
     "data": {
      "text/plain": [
       "(54100000.0, -23500000.0)"
      ]
     },
     "execution_count": 86,
     "metadata": {},
     "output_type": "execute_result"
    }
   ],
   "source": [
    "UL,LL"
   ]
  },
  {
   "cell_type": "code",
   "execution_count": 93,
   "id": "736360f6",
   "metadata": {},
   "outputs": [
    {
     "data": {
      "text/html": [
       "<div>\n",
       "<style scoped>\n",
       "    .dataframe tbody tr th:only-of-type {\n",
       "        vertical-align: middle;\n",
       "    }\n",
       "\n",
       "    .dataframe tbody tr th {\n",
       "        vertical-align: top;\n",
       "    }\n",
       "\n",
       "    .dataframe thead th {\n",
       "        text-align: right;\n",
       "    }\n",
       "</style>\n",
       "<table border=\"1\" class=\"dataframe\">\n",
       "  <thead>\n",
       "    <tr style=\"text-align: right;\">\n",
       "      <th></th>\n",
       "      <th>Area</th>\n",
       "      <th>BHK</th>\n",
       "      <th>Bathroom</th>\n",
       "      <th>Furnishing</th>\n",
       "      <th>Location</th>\n",
       "      <th>District</th>\n",
       "      <th>Parking</th>\n",
       "      <th>Status</th>\n",
       "      <th>Transaction</th>\n",
       "      <th>Type</th>\n",
       "      <th>Per_Sqft</th>\n",
       "      <th>Price</th>\n",
       "    </tr>\n",
       "  </thead>\n",
       "  <tbody>\n",
       "  </tbody>\n",
       "</table>\n",
       "</div>"
      ],
      "text/plain": [
       "Empty DataFrame\n",
       "Columns: [Area, BHK, Bathroom, Furnishing, Location, District, Parking, Status, Transaction, Type, Per_Sqft, Price]\n",
       "Index: []"
      ]
     },
     "execution_count": 93,
     "metadata": {},
     "output_type": "execute_result"
    }
   ],
   "source": [
    "# Check for the Outliers (Data Filteration)\n",
    "\n",
    "df[df.Price>UL]"
   ]
  },
  {
   "cell_type": "code",
   "execution_count": 88,
   "id": "16842c8d",
   "metadata": {},
   "outputs": [],
   "source": [
    "# Replace Outlier with Upper Limit\n",
    "\n",
    "df.Price = np.where(df.Price>UL,UL,df.Price)"
   ]
  },
  {
   "cell_type": "code",
   "execution_count": 90,
   "id": "54145ec0",
   "metadata": {},
   "outputs": [
    {
     "data": {
      "text/plain": [
       "<Axes: xlabel='Price'>"
      ]
     },
     "execution_count": 90,
     "metadata": {},
     "output_type": "execute_result"
    },
    {
     "data": {
      "image/png": "[encoded data removed]",
      "text/plain": [
       "<Figure size 640x480 with 1 Axes>"
      ]
     },
     "metadata": {},
     "output_type": "display_data"
    }
   ],
   "source": [
    "sns.boxplot(df.Price,orient='h')"
   ]
  },
  {
   "cell_type": "code",
   "execution_count": 94,
   "id": "8bccf30b",
   "metadata": {},
   "outputs": [
    {
     "data": {
      "text/plain": [
       "18110593.080724876"
      ]
     },
     "execution_count": 94,
     "metadata": {},
     "output_type": "execute_result"
    }
   ],
   "source": [
    "df.Price.mean()"
   ]
  },
  {
   "cell_type": "code",
   "execution_count": 98,
   "id": "2f666dc9",
   "metadata": {},
   "outputs": [
    {
     "data": {
      "text/plain": [
       "23340111.111111112"
      ]
     },
     "execution_count": 98,
     "metadata": {},
     "output_type": "execute_result"
    }
   ],
   "source": [
    "df[df.Location == 'Lajpat Nagar']['Price'].mean()"
   ]
  },
  {
   "cell_type": "code",
   "execution_count": 101,
   "id": "d16aeac7",
   "metadata": {},
   "outputs": [
    {
     "data": {
      "text/plain": [
       "<Axes: xlabel='Area'>"
      ]
     },
     "execution_count": 101,
     "metadata": {},
     "output_type": "execute_result"
    },
    {
     "data": {
      "image/png": "[encoded data removed]",
      "text/plain": [
       "<Figure size 640x480 with 1 Axes>"
      ]
     },
     "metadata": {},
     "output_type": "display_data"
    }
   ],
   "source": [
    "sns.boxplot(df.Area,orient='h')"
   ]
  },
  {
   "cell_type": "code",
   "execution_count": 102,
   "id": "76b04c18",
   "metadata": {},
   "outputs": [],
   "source": [
    "Q1,Q3 = df.Area.quantile([0.25,0.75])"
   ]
  },
  {
   "cell_type": "code",
   "execution_count": 103,
   "id": "5e8f0dda",
   "metadata": {},
   "outputs": [
    {
     "data": {
      "text/plain": [
       "(800.0, 1620.0)"
      ]
     },
     "execution_count": 103,
     "metadata": {},
     "output_type": "execute_result"
    }
   ],
   "source": [
    "Q1,Q3"
   ]
  },
  {
   "cell_type": "code",
   "execution_count": 104,
   "id": "92d70320",
   "metadata": {},
   "outputs": [],
   "source": [
    "IQR = Q3 - Q1"
   ]
  },
  {
   "cell_type": "code",
   "execution_count": 105,
   "id": "99a88b81",
   "metadata": {},
   "outputs": [
    {
     "data": {
      "text/plain": [
       "820.0"
      ]
     },
     "execution_count": 105,
     "metadata": {},
     "output_type": "execute_result"
    }
   ],
   "source": [
    "IQR"
   ]
  },
  {
   "cell_type": "code",
   "execution_count": 106,
   "id": "29aa47f8",
   "metadata": {},
   "outputs": [],
   "source": [
    "UL = Q3 + 1.5 * (IQR)\n",
    "LL = Q1 - 1.5 * (IQR)"
   ]
  },
  {
   "cell_type": "code",
   "execution_count": 107,
   "id": "d8fcdbd9",
   "metadata": {},
   "outputs": [
    {
     "data": {
      "text/plain": [
       "2850.0"
      ]
     },
     "execution_count": 107,
     "metadata": {},
     "output_type": "execute_result"
    }
   ],
   "source": [
    "UL"
   ]
  },
  {
   "cell_type": "code",
   "execution_count": 108,
   "id": "545fe7ea",
   "metadata": {},
   "outputs": [
    {
     "data": {
      "text/plain": [
       "-430.0"
      ]
     },
     "execution_count": 108,
     "metadata": {},
     "output_type": "execute_result"
    }
   ],
   "source": [
    "LL"
   ]
  },
  {
   "cell_type": "code",
   "execution_count": 109,
   "id": "ecafce7c",
   "metadata": {},
   "outputs": [],
   "source": [
    "df.Area = np.where(df.Area>UL,UL,df.Area)"
   ]
  },
  {
   "cell_type": "code",
   "execution_count": 110,
   "id": "2745fb1d",
   "metadata": {},
   "outputs": [
    {
     "data": {
      "text/plain": [
       "<Axes: xlabel='Area'>"
      ]
     },
     "execution_count": 110,
     "metadata": {},
     "output_type": "execute_result"
    },
    {
     "data": {
      "image/png": "[encoded data removed]",
      "text/plain": [
       "<Figure size 640x480 with 1 Axes>"
      ]
     },
     "metadata": {},
     "output_type": "display_data"
    }
   ],
   "source": [
    "sns.boxplot(df.Area,orient='h')"
   ]
  },
  {
   "cell_type": "code",
   "execution_count": 114,
   "id": "8c21f493",
   "metadata": {},
   "outputs": [
    {
     "data": {
      "text/plain": [
       "<Axes: xlabel='Area', ylabel='Price'>"
      ]
     },
     "execution_count": 114,
     "metadata": {},
     "output_type": "execute_result"
    },
    {
     "data": {
      "image/png": "[encoded data removed]",
      "text/plain": [
       "<Figure size 640x480 with 1 Axes>"
      ]
     },
     "metadata": {},
     "output_type": "display_data"
    }
   ],
   "source": [
    "sns.scatterplot(x=df.Area,y=df.Price)"
   ]
  },
  {
   "cell_type": "code",
   "execution_count": 117,
   "id": "9d2215bc",
   "metadata": {},
   "outputs": [
    {
     "data": {
      "text/plain": [
       "array([[4.77726030e+05, 9.12130892e+09],\n",
       "       [9.12130892e+09, 2.46644798e+14]])"
      ]
     },
     "execution_count": 117,
     "metadata": {},
     "output_type": "execute_result"
    }
   ],
   "source": [
    "# Covariance and Correlations\n",
    "\n",
    "np.cov(df.Area,df.Price)"
   ]
  },
  {
   "cell_type": "code",
   "execution_count": 119,
   "id": "3fe18ec1",
   "metadata": {},
   "outputs": [
    {
     "data": {
      "text/html": [
       "<div>\n",
       "<style scoped>\n",
       "    .dataframe tbody tr th:only-of-type {\n",
       "        vertical-align: middle;\n",
       "    }\n",
       "\n",
       "    .dataframe tbody tr th {\n",
       "        vertical-align: top;\n",
       "    }\n",
       "\n",
       "    .dataframe thead th {\n",
       "        text-align: right;\n",
       "    }\n",
       "</style>\n",
       "<table border=\"1\" class=\"dataframe\">\n",
       "  <thead>\n",
       "    <tr style=\"text-align: right;\">\n",
       "      <th></th>\n",
       "      <th>Area</th>\n",
       "      <th>BHK</th>\n",
       "      <th>Bathroom</th>\n",
       "      <th>Parking</th>\n",
       "      <th>Per_Sqft</th>\n",
       "      <th>Price</th>\n",
       "    </tr>\n",
       "  </thead>\n",
       "  <tbody>\n",
       "    <tr>\n",
       "      <th>Area</th>\n",
       "      <td>1.000000</td>\n",
       "      <td>0.723679</td>\n",
       "      <td>0.800366</td>\n",
       "      <td>0.020482</td>\n",
       "      <td>0.195670</td>\n",
       "      <td>0.840295</td>\n",
       "    </tr>\n",
       "    <tr>\n",
       "      <th>BHK</th>\n",
       "      <td>0.723679</td>\n",
       "      <td>1.000000</td>\n",
       "      <td>0.766786</td>\n",
       "      <td>-0.009650</td>\n",
       "      <td>0.161618</td>\n",
       "      <td>0.634044</td>\n",
       "    </tr>\n",
       "    <tr>\n",
       "      <th>Bathroom</th>\n",
       "      <td>0.800366</td>\n",
       "      <td>0.766786</td>\n",
       "      <td>1.000000</td>\n",
       "      <td>0.017841</td>\n",
       "      <td>0.208933</td>\n",
       "      <td>0.796821</td>\n",
       "    </tr>\n",
       "    <tr>\n",
       "      <th>Parking</th>\n",
       "      <td>0.020482</td>\n",
       "      <td>-0.009650</td>\n",
       "      <td>0.017841</td>\n",
       "      <td>1.000000</td>\n",
       "      <td>0.010855</td>\n",
       "      <td>0.017175</td>\n",
       "    </tr>\n",
       "    <tr>\n",
       "      <th>Per_Sqft</th>\n",
       "      <td>0.195670</td>\n",
       "      <td>0.161618</td>\n",
       "      <td>0.208933</td>\n",
       "      <td>0.010855</td>\n",
       "      <td>1.000000</td>\n",
       "      <td>0.305737</td>\n",
       "    </tr>\n",
       "    <tr>\n",
       "      <th>Price</th>\n",
       "      <td>0.840295</td>\n",
       "      <td>0.634044</td>\n",
       "      <td>0.796821</td>\n",
       "      <td>0.017175</td>\n",
       "      <td>0.305737</td>\n",
       "      <td>1.000000</td>\n",
       "    </tr>\n",
       "  </tbody>\n",
       "</table>\n",
       "</div>"
      ],
      "text/plain": [
       "              Area       BHK  Bathroom   Parking  Per_Sqft     Price\n",
       "Area      1.000000  0.723679  0.800366  0.020482  0.195670  0.840295\n",
       "BHK       0.723679  1.000000  0.766786 -0.009650  0.161618  0.634044\n",
       "Bathroom  0.800366  0.766786  1.000000  0.017841  0.208933  0.796821\n",
       "Parking   0.020482 -0.009650  0.017841  1.000000  0.010855  0.017175\n",
       "Per_Sqft  0.195670  0.161618  0.208933  0.010855  1.000000  0.305737\n",
       "Price     0.840295  0.634044  0.796821  0.017175  0.305737  1.000000"
      ]
     },
     "execution_count": 119,
     "metadata": {},
     "output_type": "execute_result"
    }
   ],
   "source": [
    "df.corr(numeric_only=True)"
   ]
  },
  {
   "cell_type": "code",
   "execution_count": 135,
   "id": "785ae26f",
   "metadata": {},
   "outputs": [
    {
     "data": {
      "text/plain": [
       "0.6340441312226025"
      ]
     },
     "execution_count": 135,
     "metadata": {},
     "output_type": "execute_result"
    }
   ],
   "source": [
    "# If we want to check according to a column.\n",
    "\n",
    "df.Price.corr(df.BHK)"
   ]
  },
  {
   "cell_type": "code",
   "execution_count": 139,
   "id": "71f9c66b",
   "metadata": {},
   "outputs": [
    {
     "data": {
      "text/plain": [
       "Area        0.840295\n",
       "BHK         0.634044\n",
       "Bathroom    0.796821\n",
       "Parking     0.017175\n",
       "Per_Sqft    0.305737\n",
       "Price       1.000000\n",
       "Name: Price, dtype: float64"
      ]
     },
     "execution_count": 139,
     "metadata": {},
     "output_type": "execute_result"
    }
   ],
   "source": [
    "df.corr(numeric_only=True)['Price']"
   ]
  },
  {
   "cell_type": "code",
   "execution_count": 159,
   "id": "448eca3c",
   "metadata": {},
   "outputs": [],
   "source": [
    "# Pandas Date Time Method\n",
    "\n",
    "data = pd.DataFrame({'Name':['Aditya','Kaif','Shravan','Kunal'],\n",
    "                    'Age':[22,23,24,25],\n",
    "                    'DOB':['25/May/2002','30/june/2005','11/Nov/1998','5/july/2005']})"
   ]
  },
  {
   "cell_type": "code",
   "execution_count": 160,
   "id": "5e785b41",
   "metadata": {},
   "outputs": [
    {
     "data": {
      "text/html": [
       "<div>\n",
       "<style scoped>\n",
       "    .dataframe tbody tr th:only-of-type {\n",
       "        vertical-align: middle;\n",
       "    }\n",
       "\n",
       "    .dataframe tbody tr th {\n",
       "        vertical-align: top;\n",
       "    }\n",
       "\n",
       "    .dataframe thead th {\n",
       "        text-align: right;\n",
       "    }\n",
       "</style>\n",
       "<table border=\"1\" class=\"dataframe\">\n",
       "  <thead>\n",
       "    <tr style=\"text-align: right;\">\n",
       "      <th></th>\n",
       "      <th>Name</th>\n",
       "      <th>Age</th>\n",
       "      <th>DOB</th>\n",
       "    </tr>\n",
       "  </thead>\n",
       "  <tbody>\n",
       "    <tr>\n",
       "      <th>0</th>\n",
       "      <td>Aditya</td>\n",
       "      <td>22</td>\n",
       "      <td>25/May/2002</td>\n",
       "    </tr>\n",
       "    <tr>\n",
       "      <th>1</th>\n",
       "      <td>Kaif</td>\n",
       "      <td>23</td>\n",
       "      <td>30/june/2005</td>\n",
       "    </tr>\n",
       "    <tr>\n",
       "      <th>2</th>\n",
       "      <td>Shravan</td>\n",
       "      <td>24</td>\n",
       "      <td>11/Nov/1998</td>\n",
       "    </tr>\n",
       "    <tr>\n",
       "      <th>3</th>\n",
       "      <td>Kunal</td>\n",
       "      <td>25</td>\n",
       "      <td>5/july/2005</td>\n",
       "    </tr>\n",
       "  </tbody>\n",
       "</table>\n",
       "</div>"
      ],
      "text/plain": [
       "      Name  Age           DOB\n",
       "0   Aditya   22   25/May/2002\n",
       "1     Kaif   23  30/june/2005\n",
       "2  Shravan   24   11/Nov/1998\n",
       "3    Kunal   25   5/july/2005"
      ]
     },
     "execution_count": 160,
     "metadata": {},
     "output_type": "execute_result"
    }
   ],
   "source": [
    "data"
   ]
  },
  {
   "cell_type": "code",
   "execution_count": 161,
   "id": "a3e7ced1",
   "metadata": {},
   "outputs": [
    {
     "data": {
      "text/plain": [
       "Name    object\n",
       "Age      int64\n",
       "DOB     object\n",
       "dtype: object"
      ]
     },
     "execution_count": 161,
     "metadata": {},
     "output_type": "execute_result"
    }
   ],
   "source": [
    "data.dtypes"
   ]
  },
  {
   "cell_type": "code",
   "execution_count": 162,
   "id": "ddc3308e",
   "metadata": {},
   "outputs": [],
   "source": [
    "# Now we've convert this column into date time format.\n",
    "\n",
    "data.DOB = pd.to_datetime(data.DOB,format='mixed')"
   ]
  },
  {
   "cell_type": "code",
   "execution_count": 163,
   "id": "9a2d4a58",
   "metadata": {},
   "outputs": [
    {
     "data": {
      "text/html": [
       "<div>\n",
       "<style scoped>\n",
       "    .dataframe tbody tr th:only-of-type {\n",
       "        vertical-align: middle;\n",
       "    }\n",
       "\n",
       "    .dataframe tbody tr th {\n",
       "        vertical-align: top;\n",
       "    }\n",
       "\n",
       "    .dataframe thead th {\n",
       "        text-align: right;\n",
       "    }\n",
       "</style>\n",
       "<table border=\"1\" class=\"dataframe\">\n",
       "  <thead>\n",
       "    <tr style=\"text-align: right;\">\n",
       "      <th></th>\n",
       "      <th>Name</th>\n",
       "      <th>Age</th>\n",
       "      <th>DOB</th>\n",
       "    </tr>\n",
       "  </thead>\n",
       "  <tbody>\n",
       "    <tr>\n",
       "      <th>0</th>\n",
       "      <td>Aditya</td>\n",
       "      <td>22</td>\n",
       "      <td>2002-05-25</td>\n",
       "    </tr>\n",
       "    <tr>\n",
       "      <th>1</th>\n",
       "      <td>Kaif</td>\n",
       "      <td>23</td>\n",
       "      <td>2005-06-30</td>\n",
       "    </tr>\n",
       "    <tr>\n",
       "      <th>2</th>\n",
       "      <td>Shravan</td>\n",
       "      <td>24</td>\n",
       "      <td>1998-11-11</td>\n",
       "    </tr>\n",
       "    <tr>\n",
       "      <th>3</th>\n",
       "      <td>Kunal</td>\n",
       "      <td>25</td>\n",
       "      <td>2005-07-05</td>\n",
       "    </tr>\n",
       "  </tbody>\n",
       "</table>\n",
       "</div>"
      ],
      "text/plain": [
       "      Name  Age        DOB\n",
       "0   Aditya   22 2002-05-25\n",
       "1     Kaif   23 2005-06-30\n",
       "2  Shravan   24 1998-11-11\n",
       "3    Kunal   25 2005-07-05"
      ]
     },
     "execution_count": 163,
     "metadata": {},
     "output_type": "execute_result"
    }
   ],
   "source": [
    "data"
   ]
  },
  {
   "cell_type": "code",
   "execution_count": 164,
   "id": "2a6db374",
   "metadata": {},
   "outputs": [
    {
     "data": {
      "text/plain": [
       "Name            object\n",
       "Age              int64\n",
       "DOB     datetime64[ns]\n",
       "dtype: object"
      ]
     },
     "execution_count": 164,
     "metadata": {},
     "output_type": "execute_result"
    }
   ],
   "source": [
    "data.dtypes"
   ]
  },
  {
   "cell_type": "code",
   "execution_count": 165,
   "id": "d03182e0",
   "metadata": {},
   "outputs": [],
   "source": [
    "data['marks'] = np.NaN"
   ]
  },
  {
   "cell_type": "code",
   "execution_count": 166,
   "id": "4c8b7343",
   "metadata": {},
   "outputs": [
    {
     "data": {
      "text/html": [
       "<div>\n",
       "<style scoped>\n",
       "    .dataframe tbody tr th:only-of-type {\n",
       "        vertical-align: middle;\n",
       "    }\n",
       "\n",
       "    .dataframe tbody tr th {\n",
       "        vertical-align: top;\n",
       "    }\n",
       "\n",
       "    .dataframe thead th {\n",
       "        text-align: right;\n",
       "    }\n",
       "</style>\n",
       "<table border=\"1\" class=\"dataframe\">\n",
       "  <thead>\n",
       "    <tr style=\"text-align: right;\">\n",
       "      <th></th>\n",
       "      <th>Name</th>\n",
       "      <th>Age</th>\n",
       "      <th>DOB</th>\n",
       "      <th>marks</th>\n",
       "    </tr>\n",
       "  </thead>\n",
       "  <tbody>\n",
       "    <tr>\n",
       "      <th>0</th>\n",
       "      <td>Aditya</td>\n",
       "      <td>22</td>\n",
       "      <td>2002-05-25</td>\n",
       "      <td>NaN</td>\n",
       "    </tr>\n",
       "    <tr>\n",
       "      <th>1</th>\n",
       "      <td>Kaif</td>\n",
       "      <td>23</td>\n",
       "      <td>2005-06-30</td>\n",
       "      <td>NaN</td>\n",
       "    </tr>\n",
       "    <tr>\n",
       "      <th>2</th>\n",
       "      <td>Shravan</td>\n",
       "      <td>24</td>\n",
       "      <td>1998-11-11</td>\n",
       "      <td>NaN</td>\n",
       "    </tr>\n",
       "    <tr>\n",
       "      <th>3</th>\n",
       "      <td>Kunal</td>\n",
       "      <td>25</td>\n",
       "      <td>2005-07-05</td>\n",
       "      <td>NaN</td>\n",
       "    </tr>\n",
       "  </tbody>\n",
       "</table>\n",
       "</div>"
      ],
      "text/plain": [
       "      Name  Age        DOB  marks\n",
       "0   Aditya   22 2002-05-25    NaN\n",
       "1     Kaif   23 2005-06-30    NaN\n",
       "2  Shravan   24 1998-11-11    NaN\n",
       "3    Kunal   25 2005-07-05    NaN"
      ]
     },
     "execution_count": 166,
     "metadata": {},
     "output_type": "execute_result"
    }
   ],
   "source": [
    "data"
   ]
  },
  {
   "cell_type": "code",
   "execution_count": 169,
   "id": "5b409a70",
   "metadata": {},
   "outputs": [],
   "source": [
    "data.marks = np.where(data.marks.isnull(),data.Age>23,data.marks)"
   ]
  },
  {
   "cell_type": "code",
   "execution_count": 170,
   "id": "bc6f0ec0",
   "metadata": {},
   "outputs": [
    {
     "data": {
      "text/html": [
       "<div>\n",
       "<style scoped>\n",
       "    .dataframe tbody tr th:only-of-type {\n",
       "        vertical-align: middle;\n",
       "    }\n",
       "\n",
       "    .dataframe tbody tr th {\n",
       "        vertical-align: top;\n",
       "    }\n",
       "\n",
       "    .dataframe thead th {\n",
       "        text-align: right;\n",
       "    }\n",
       "</style>\n",
       "<table border=\"1\" class=\"dataframe\">\n",
       "  <thead>\n",
       "    <tr style=\"text-align: right;\">\n",
       "      <th></th>\n",
       "      <th>Name</th>\n",
       "      <th>Age</th>\n",
       "      <th>DOB</th>\n",
       "      <th>marks</th>\n",
       "    </tr>\n",
       "  </thead>\n",
       "  <tbody>\n",
       "    <tr>\n",
       "      <th>0</th>\n",
       "      <td>Aditya</td>\n",
       "      <td>22</td>\n",
       "      <td>2002-05-25</td>\n",
       "      <td>0.0</td>\n",
       "    </tr>\n",
       "    <tr>\n",
       "      <th>1</th>\n",
       "      <td>Kaif</td>\n",
       "      <td>23</td>\n",
       "      <td>2005-06-30</td>\n",
       "      <td>0.0</td>\n",
       "    </tr>\n",
       "    <tr>\n",
       "      <th>2</th>\n",
       "      <td>Shravan</td>\n",
       "      <td>24</td>\n",
       "      <td>1998-11-11</td>\n",
       "      <td>1.0</td>\n",
       "    </tr>\n",
       "    <tr>\n",
       "      <th>3</th>\n",
       "      <td>Kunal</td>\n",
       "      <td>25</td>\n",
       "      <td>2005-07-05</td>\n",
       "      <td>1.0</td>\n",
       "    </tr>\n",
       "  </tbody>\n",
       "</table>\n",
       "</div>"
      ],
      "text/plain": [
       "      Name  Age        DOB  marks\n",
       "0   Aditya   22 2002-05-25    0.0\n",
       "1     Kaif   23 2005-06-30    0.0\n",
       "2  Shravan   24 1998-11-11    1.0\n",
       "3    Kunal   25 2005-07-05    1.0"
      ]
     },
     "execution_count": 170,
     "metadata": {},
     "output_type": "execute_result"
    }
   ],
   "source": [
    "data"
   ]
  },
  {
   "cell_type": "code",
   "execution_count": 176,
   "id": "7d4271da",
   "metadata": {},
   "outputs": [
    {
     "name": "stdout",
     "output_type": "stream",
     "text": [
      "22\n",
      "23\n",
      "24\n",
      "25\n"
     ]
    }
   ],
   "source": [
    "d = []\n",
    "\n",
    "for x in data.Age:\n",
    "    print(x)\n",
    "    if x>23:\n",
    "        d.append(x)"
   ]
  },
  {
   "cell_type": "code",
   "execution_count": 177,
   "id": "5250b467",
   "metadata": {},
   "outputs": [
    {
     "data": {
      "text/plain": [
       "[24, 25]"
      ]
     },
     "execution_count": 177,
     "metadata": {},
     "output_type": "execute_result"
    }
   ],
   "source": [
    "d"
   ]
  },
  {
   "cell_type": "code",
   "execution_count": null,
   "id": "edd877a4",
   "metadata": {},
   "outputs": [],
   "source": []
  }
 ],
 "metadata": {
  "kernelspec": {
   "display_name": "Python 3 (ipykernel)",
   "language": "python",
   "name": "python3"
  },
  "language_info": {
   "codemirror_mode": {
    "name": "ipython",
    "version": 3
   },
   "file_extension": ".py",
   "mimetype": "text/x-python",
   "name": "python",
   "nbconvert_exporter": "python",
   "pygments_lexer": "ipython3",
   "version": "3.9.18"
  }
 },
 "nbformat": 4,
 "nbformat_minor": 5
}
